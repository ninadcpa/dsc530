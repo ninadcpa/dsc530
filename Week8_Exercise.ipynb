{
  "nbformat": 4,
  "nbformat_minor": 0,
  "metadata": {
    "colab": {
      "name": "Week8_Exercise.ipynb",
      "provenance": [],
      "authorship_tag": "ABX9TyO5rOFtusv+WsZEtrfTfnBz",
      "include_colab_link": true
    },
    "kernelspec": {
      "name": "python3",
      "display_name": "Python 3"
    }
  },
  "cells": [
    {
      "cell_type": "markdown",
      "metadata": {
        "id": "view-in-github",
        "colab_type": "text"
      },
      "source": [
        "<a href=\"https://colab.research.google.com/github/ninadcpa/dsc530/blob/main/Week8_Exercise.ipynb\" target=\"_parent\"><img src=\"https://colab.research.google.com/assets/colab-badge.svg\" alt=\"Open In Colab\"/></a>"
      ]
    },
    {
      "cell_type": "markdown",
      "metadata": {
        "id": "Vz96eGqPwM0H"
      },
      "source": [
        "# Week 8 - Exercise 9.1 and 10.1\n",
        "\n",
        "Author - Ninad Patkhedkar"
      ]
    },
    {
      "cell_type": "code",
      "metadata": {
        "colab": {
          "base_uri": "https://localhost:8080/"
        },
        "id": "0VKLIP8Ov_8k",
        "outputId": "8ab7b802-fd69-4b7f-fcd6-7856eb70812b"
      },
      "source": [
        "from google.colab import drive\n",
        "import sys\n",
        "import os\n",
        "\n",
        "# This code is to just use code checked out from github on google drive\n",
        "drive.mount('/content/drive')\n",
        "sys.path.append('/content/drive/MyDrive/Colab Notebooks/ThinkStats/ThinkStats2/code/')\n",
        "os.chdir('/content/drive/MyDrive/Colab Notebooks/ThinkStats/ThinkStats2/code/')"
      ],
      "execution_count": 1,
      "outputs": [
        {
          "output_type": "stream",
          "text": [
            "Drive already mounted at /content/drive; to attempt to forcibly remount, call drive.mount(\"/content/drive\", force_remount=True).\n"
          ],
          "name": "stdout"
        }
      ]
    },
    {
      "cell_type": "markdown",
      "metadata": {
        "id": "C-REVGmAyAXH"
      },
      "source": [
        "**Exercise 9.1**\n",
        "As sample size increases, the power of a hypothesis test increases, which means it is more likely to be positive if the effect is real. Conversely, as sample size decreases, the test is less likely to be positive even if the effect is real.\n",
        "To investigate this behavior, run the tests in this chapter with different subsets of the NSFG data. You can use thinkstats2.SampleRows to select a random subset of the rows in a DataFrame.\n",
        "\n",
        "What happens to the p-values of these tests as sample size decreases? What is the smallest sample size that yields a positive test?"
      ]
    },
    {
      "cell_type": "code",
      "metadata": {
        "id": "Erb9qF94wsoE"
      },
      "source": [
        "from __future__ import print_function, division\n",
        "\n",
        "import first\n",
        "import hypothesis\n",
        "import scatter\n",
        "import thinkstats2\n",
        "\n",
        "import numpy as np\n",
        "\n",
        "class DiffMeansResample(hypothesis.DiffMeansPermute):\n",
        "    \"\"\"Tests a difference in means using resampling.\"\"\"\n",
        "    \n",
        "    def RunModel(self):\n",
        "        \"\"\"Run the model of the null hypothesis.\n",
        "        returns: simulated data\n",
        "        \"\"\"\n",
        "        group1 = np.random.choice(self.pool, self.n, replace=True)\n",
        "        group2 = np.random.choice(self.pool, self.m, replace=True)\n",
        "        return group1, group2\n",
        "  \n",
        "\n",
        "def RunResampleTest(firsts, others):\n",
        "    \"\"\"Tests differences in means by resampling.\n",
        "    firsts: DataFrame\n",
        "    others: DataFrame\n",
        "    \"\"\"\n",
        "    data = firsts.prglngth.values, others.prglngth.values\n",
        "    ht = DiffMeansResample(data)\n",
        "    p_value = ht.PValue(iters=10000)\n",
        "    print('\\nmeans permute preglength')\n",
        "    print('p-value =', p_value)\n",
        "    print('actual =', ht.actual)\n",
        "    print('ts max =', ht.MaxTestStat())\n",
        "\n",
        "    data = (firsts.totalwgt_lb.dropna().values,\n",
        "            others.totalwgt_lb.dropna().values)\n",
        "    ht = hypothesis.DiffMeansPermute(data)\n",
        "    p_value = ht.PValue(iters=10000)\n",
        "    print('\\nmeans permute birthweight')\n",
        "    print('p-value =', p_value)\n",
        "    print('actual =', ht.actual)\n",
        "    print('ts max =', ht.MaxTestStat())\n",
        "\n",
        "\n",
        "def RunTests(live, iters=1000):\n",
        "    \"\"\"Runs the tests from Chapter 9 with a subset of the data.\n",
        "    live: DataFrame\n",
        "    iters: how many iterations to run\n",
        "    \"\"\"\n",
        "    n = len(live)\n",
        "    firsts = live[live.birthord == 1]\n",
        "    others = live[live.birthord != 1]\n",
        "\n",
        "    # compare pregnancy lengths\n",
        "    data = firsts.prglngth.values, others.prglngth.values\n",
        "    ht = hypothesis.DiffMeansPermute(data)\n",
        "    p1 = ht.PValue(iters=iters)\n",
        "\n",
        "    data = (firsts.totalwgt_lb.dropna().values,\n",
        "            others.totalwgt_lb.dropna().values)\n",
        "    ht = hypothesis.DiffMeansPermute(data)\n",
        "    p2 = ht.PValue(iters=iters)\n",
        "\n",
        "    # test correlation\n",
        "    live2 = live.dropna(subset=['agepreg', 'totalwgt_lb'])\n",
        "    data = live2.agepreg.values, live2.totalwgt_lb.values\n",
        "    ht = hypothesis.CorrelationPermute(data)\n",
        "    p3 = ht.PValue(iters=iters)\n",
        "\n",
        "    # compare pregnancy lengths (chi-squared)\n",
        "    data = firsts.prglngth.values, others.prglngth.values\n",
        "    ht = hypothesis.PregLengthTest(data)\n",
        "    p4 = ht.PValue(iters=iters)\n",
        "\n",
        "    print('%d\\t%0.2f\\t%0.2f\\t%0.2f\\t%0.2f' % (n, p1, p2, p3, p4))"
      ],
      "execution_count": 2,
      "outputs": []
    },
    {
      "cell_type": "code",
      "metadata": {
        "colab": {
          "base_uri": "https://localhost:8080/"
        },
        "id": "2yWUgmslxUyY",
        "outputId": "65de57ad-6664-40a5-8bea-6a009a4a3891"
      },
      "source": [
        "thinkstats2.RandomSeed(18)\n",
        "\n",
        "live, firsts, others = first.MakeFrames()\n",
        "RunResampleTest(firsts, others)\n",
        "\n",
        "n = len(live)\n",
        "for _ in range(7):\n",
        "    sample = thinkstats2.SampleRows(live, n)\n",
        "    RunTests(sample)\n",
        "    n //= 2"
      ],
      "execution_count": 3,
      "outputs": [
        {
          "output_type": "stream",
          "text": [
            "\n",
            "means permute preglength\n",
            "p-value = 0.1674\n",
            "actual = 0.07803726677754952\n",
            "ts max = 0.2267524361042348\n",
            "\n",
            "means permute birthweight\n",
            "p-value = 0.0\n",
            "actual = 0.12476118453549034\n",
            "ts max = 0.11224350119686566\n",
            "9148\t0.16\t0.00\t0.00\t0.00\n",
            "4574\t0.03\t0.02\t0.00\t0.00\n",
            "2287\t0.04\t0.07\t0.00\t0.00\n",
            "1143\t0.70\t0.04\t0.80\t0.07\n",
            "571\t0.53\t0.00\t0.00\t0.35\n",
            "285\t0.96\t0.84\t0.35\t0.53\n",
            "142\t0.87\t0.49\t0.20\t0.06\n"
          ],
          "name": "stdout"
        }
      ]
    },
    {
      "cell_type": "markdown",
      "metadata": {
        "id": "Wah8U_EUylgC"
      },
      "source": [
        "\n",
        "test1: difference in mean pregnancy length\n",
        "test2: difference in mean birth weight\n",
        "test3: correlation of mother's age and birth weight\n",
        "test4: chi-square test of pregnancy length\n",
        "\n",
        "\n",
        "\n",
        "Conclusion: As expected, tests that are positive with large sample\n",
        "sizes become negative as we take away data.  \n",
        "\n",
        "How much does the model affect the results?\n",
        "\n",
        "Results:\n",
        "means permute preglength\n",
        "\n",
        "p-value = 0.1674\n",
        "actual = 0.07803726677754952\n",
        "ts max = 0.2267524361042348\n",
        "\n",
        "means permute birthweight\n",
        "\n",
        "p-value = 0.0\n",
        "actual = 0.12476118453549034\n",
        "ts max = 0.11224350119686566\n",
        "\n",
        "Conclusions: Using resampling instead of permutation has very\n",
        "little effect on the results.\n",
        "The two models are based on slightly difference assumptions, and in\n",
        "this example there is no compelling reason to choose one or the other.\n",
        "\n"
      ]
    },
    {
      "cell_type": "markdown",
      "metadata": {
        "id": "F4c572fp0hqn"
      },
      "source": [
        "**Execrcise 10.1**\n",
        "Using the data from the BRFSS, compute the linear least squares fit for log(weight) versus height. How would you best present the estimated parameters for a model like this where one of the variables is log-transformed? If you were trying to guess someone’s weight, how much would it help to know their height?\n",
        "\n",
        "Like the NSFG, the BRFSS oversamples some groups and provides a sampling weight for each respondent. In the BRFSS data, the variable name for these weights is finalwt. Use resampling, with and without weights, to estimate the mean height of respondents in the BRFSS, the standard error of the mean, and a 90% confidence interval. How much does correct weighting affect the estimates?"
      ]
    },
    {
      "cell_type": "code",
      "metadata": {
        "id": "3xyYZt_C14NG"
      },
      "source": [
        "import brfss\n",
        "\n",
        "df = brfss.ReadBrfss(nrows=None)\n",
        "df = df.dropna(subset=['htm3', 'wtkg2'])\n",
        "heights, weights = df.htm3, df.wtkg2\n",
        "log_weights = np.log10(weights)"
      ],
      "execution_count": 4,
      "outputs": []
    },
    {
      "cell_type": "code",
      "metadata": {
        "colab": {
          "base_uri": "https://localhost:8080/"
        },
        "id": "0NiwlOHf19MG",
        "outputId": "cce5db13-31e1-48ee-8683-f06dbda663bb"
      },
      "source": [
        "inter, slope = thinkstats2.LeastSquares(heights, log_weights)\n",
        "inter, slope"
      ],
      "execution_count": 5,
      "outputs": [
        {
          "output_type": "execute_result",
          "data": {
            "text/plain": [
              "(0.9930804163917808, 0.005281454169417994)"
            ]
          },
          "metadata": {
            "tags": []
          },
          "execution_count": 5
        }
      ]
    },
    {
      "cell_type": "code",
      "metadata": {
        "colab": {
          "base_uri": "https://localhost:8080/",
          "height": 279
        },
        "id": "ZaqI-CQ-2Dmj",
        "outputId": "68b9fcbf-4697-41d0-e693-ac0c572c6110"
      },
      "source": [
        "import thinkplot\n",
        "\n",
        "thinkplot.Scatter(heights, log_weights, alpha=0.01, s=5)\n",
        "fxs, fys = thinkstats2.FitLine(heights, inter, slope)\n",
        "thinkplot.Plot(fxs, fys, color='red')\n",
        "thinkplot.Config(xlabel='Height (cm)', ylabel='log10 weight (kg)', legend=False)"
      ],
      "execution_count": 6,
      "outputs": [
        {
          "output_type": "display_data",
          "data": {
            "image/png": "[encoded data removed]",
            "text/plain": [
              "<Figure size 432x288 with 1 Axes>"
            ]
          },
          "metadata": {
            "tags": [],
            "needs_background": "light"
          }
        }
      ]
    },
    {
      "cell_type": "code",
      "metadata": {
        "colab": {
          "base_uri": "https://localhost:8080/",
          "height": 279
        },
        "id": "IaJZKZvy2Tky",
        "outputId": "2d90b773-0bd5-4c4b-f814-e9d7b420c4f8"
      },
      "source": [
        "thinkplot.Scatter(heights, weights, alpha=0.01, s=5)\n",
        "fxs, fys = thinkstats2.FitLine(heights, inter, slope)\n",
        "thinkplot.Plot(fxs, 10**fys, color='red')\n",
        "thinkplot.Config(xlabel='Height (cm)', ylabel='Weight (kg)', legend=False)"
      ],
      "execution_count": 7,
      "outputs": [
        {
          "output_type": "display_data",
          "data": {
            "image/png": "[encoded data removed]",
            "text/plain": [
              "<Figure size 432x288 with 1 Axes>"
            ]
          },
          "metadata": {
            "tags": [],
            "needs_background": "light"
          }
        }
      ]
    },
    {
      "cell_type": "code",
      "metadata": {
        "colab": {
          "base_uri": "https://localhost:8080/",
          "height": 279
        },
        "id": "e0p9IsEU2cNL",
        "outputId": "c7b5e89b-ff0d-41bf-d00c-5890cee8ef26"
      },
      "source": [
        "res = thinkstats2.Residuals(heights, log_weights, inter, slope)\n",
        "df['residual'] = res\n",
        "\n",
        "bins = np.arange(130, 210, 5)\n",
        "indices = np.digitize(df.htm3, bins)\n",
        "groups = df.groupby(indices)\n",
        "\n",
        "means = [group.htm3.mean() for i, group in groups][1:-1]\n",
        "cdfs = [thinkstats2.Cdf(group.residual) for i, group in groups][1:-1]\n",
        "\n",
        "thinkplot.PrePlot(3)\n",
        "for percent in [75, 50, 25]:\n",
        "    ys = [cdf.Percentile(percent) for cdf in cdfs]\n",
        "    label = '%dth' % percent\n",
        "    thinkplot.Plot(means, ys, label=label)\n",
        "    \n",
        "thinkplot.Config(xlabel='height (cm)', ylabel='residual weight (kg)', legend=False)"
      ],
      "execution_count": 8,
      "outputs": [
        {
          "output_type": "display_data",
          "data": {
            "image/png": "[encoded data removed]",
            "text/plain": [
              "<Figure size 432x288 with 1 Axes>"
            ]
          },
          "metadata": {
            "tags": [],
            "needs_background": "light"
          }
        }
      ]
    },
    {
      "cell_type": "code",
      "metadata": {
        "colab": {
          "base_uri": "https://localhost:8080/"
        },
        "id": "s2ZkUu8t2oQj",
        "outputId": "11c91cf1-98c9-49a9-ce11-0f5942196219"
      },
      "source": [
        "rho = thinkstats2.Corr(heights, log_weights)\n",
        "rho"
      ],
      "execution_count": 9,
      "outputs": [
        {
          "output_type": "execute_result",
          "data": {
            "text/plain": [
              "0.531728260598358"
            ]
          },
          "metadata": {
            "tags": []
          },
          "execution_count": 9
        }
      ]
    },
    {
      "cell_type": "code",
      "metadata": {
        "colab": {
          "base_uri": "https://localhost:8080/"
        },
        "id": "suExtTAk25hv",
        "outputId": "97b4fbdb-096a-434f-919a-a6884a81b0cc"
      },
      "source": [
        "r2 = thinkstats2.CoefDetermination(log_weights, res)\n",
        "r2"
      ],
      "execution_count": 10,
      "outputs": [
        {
          "output_type": "execute_result",
          "data": {
            "text/plain": [
              "0.282734943118932"
            ]
          },
          "metadata": {
            "tags": []
          },
          "execution_count": 10
        }
      ]
    },
    {
      "cell_type": "code",
      "metadata": {
        "colab": {
          "base_uri": "https://localhost:8080/"
        },
        "id": "ZLYX-uUG27Bw",
        "outputId": "49442bf8-e46c-403a-a7f1-17e8262f52ec"
      },
      "source": [
        "rho**2 - r2"
      ],
      "execution_count": 11,
      "outputs": [
        {
          "output_type": "execute_result",
          "data": {
            "text/plain": [
              "2.3314683517128287e-14"
            ]
          },
          "metadata": {
            "tags": []
          },
          "execution_count": 11
        }
      ]
    },
    {
      "cell_type": "code",
      "metadata": {
        "colab": {
          "base_uri": "https://localhost:8080/"
        },
        "id": "hPtZSLdu3Cdm",
        "outputId": "0581a3b5-3b1e-4114-ec18-82c1167edac5"
      },
      "source": [
        "std_ys = thinkstats2.Std(log_weights)\n",
        "std_ys"
      ],
      "execution_count": 12,
      "outputs": [
        {
          "output_type": "execute_result",
          "data": {
            "text/plain": [
              "0.10320725030004864"
            ]
          },
          "metadata": {
            "tags": []
          },
          "execution_count": 12
        }
      ]
    },
    {
      "cell_type": "code",
      "metadata": {
        "colab": {
          "base_uri": "https://localhost:8080/"
        },
        "id": "PkWcE7PR3HTm",
        "outputId": "0f0c84f2-8590-4131-e086-211bb75ad31b"
      },
      "source": [
        "std_res = thinkstats2.Std(res)\n",
        "std_res"
      ],
      "execution_count": 13,
      "outputs": [
        {
          "output_type": "execute_result",
          "data": {
            "text/plain": [
              "0.08740777080416112"
            ]
          },
          "metadata": {
            "tags": []
          },
          "execution_count": 13
        }
      ]
    },
    {
      "cell_type": "markdown",
      "metadata": {
        "id": "3WK2NZsm3UQk"
      },
      "source": [
        "How much height information reduces RMSE?"
      ]
    },
    {
      "cell_type": "code",
      "metadata": {
        "colab": {
          "base_uri": "https://localhost:8080/"
        },
        "id": "o-pxlt5H3Oim",
        "outputId": "a813024d-d83f-4244-cb5a-a20b2e85d04e"
      },
      "source": [
        "1 - std_res / std_ys"
      ],
      "execution_count": 14,
      "outputs": [
        {
          "output_type": "execute_result",
          "data": {
            "text/plain": [
              "0.1530849765879294"
            ]
          },
          "metadata": {
            "tags": []
          },
          "execution_count": 14
        }
      ]
    },
    {
      "cell_type": "markdown",
      "metadata": {
        "id": "i2qDGnLV35wK"
      },
      "source": [
        "Use resampling to compute sampling distributions for inter and slope."
      ]
    },
    {
      "cell_type": "code",
      "metadata": {
        "id": "bpu0BORN4Azj"
      },
      "source": [
        "t = []\n",
        "for _ in range(100):\n",
        "    sample = thinkstats2.ResampleRows(df)\n",
        "    estimates = thinkstats2.LeastSquares(sample.htm3, np.log10(sample.wtkg2))\n",
        "    t.append(estimates)\n",
        "\n",
        "inters, slopes = zip(*t)"
      ],
      "execution_count": 15,
      "outputs": []
    },
    {
      "cell_type": "markdown",
      "metadata": {
        "id": "DR8_KrAn4Fuy"
      },
      "source": [
        "Plot the sampling distribution of slope."
      ]
    },
    {
      "cell_type": "code",
      "metadata": {
        "colab": {
          "base_uri": "https://localhost:8080/",
          "height": 283
        },
        "id": "yXKTywdG4JOR",
        "outputId": "31aa7152-eeb9-4297-e1ee-d5ceebdc9e80"
      },
      "source": [
        "cdf = thinkstats2.Cdf(slopes)\n",
        "thinkplot.Cdf(cdf)"
      ],
      "execution_count": 16,
      "outputs": [
        {
          "output_type": "execute_result",
          "data": {
            "text/plain": [
              "{'xscale': 'linear', 'yscale': 'linear'}"
            ]
          },
          "metadata": {
            "tags": []
          },
          "execution_count": 16
        },
        {
          "output_type": "display_data",
          "data": {
            "image/png": "[encoded data removed]",
            "text/plain": [
              "<Figure size 432x288 with 1 Axes>"
            ]
          },
          "metadata": {
            "tags": [],
            "needs_background": "light"
          }
        }
      ]
    },
    {
      "cell_type": "markdown",
      "metadata": {
        "id": "exC_98B-4N-X"
      },
      "source": [
        "Compute the p-value of the slope."
      ]
    },
    {
      "cell_type": "code",
      "metadata": {
        "colab": {
          "base_uri": "https://localhost:8080/"
        },
        "id": "qqR6vMGL4R4Q",
        "outputId": "7a22bde7-6a3a-4688-c084-83b56f93a17c"
      },
      "source": [
        "pvalue = cdf[0]\n",
        "pvalue"
      ],
      "execution_count": 17,
      "outputs": [
        {
          "output_type": "execute_result",
          "data": {
            "text/plain": [
              "0"
            ]
          },
          "metadata": {
            "tags": []
          },
          "execution_count": 17
        }
      ]
    },
    {
      "cell_type": "markdown",
      "metadata": {
        "id": "kdQtWR9T4VmE"
      },
      "source": [
        "Compute the 90% confidence interval of slope."
      ]
    },
    {
      "cell_type": "code",
      "metadata": {
        "colab": {
          "base_uri": "https://localhost:8080/"
        },
        "id": "BRrlmsfk4Zs7",
        "outputId": "8170f9c9-34f9-4d69-8939-a087cca0e6a3"
      },
      "source": [
        "ci = cdf.Percentile(5), cdf.Percentile(95)\n",
        "ci"
      ],
      "execution_count": 18,
      "outputs": [
        {
          "output_type": "execute_result",
          "data": {
            "text/plain": [
              "(0.005258099751410852, 0.005304748531528845)"
            ]
          },
          "metadata": {
            "tags": []
          },
          "execution_count": 18
        }
      ]
    },
    {
      "cell_type": "markdown",
      "metadata": {
        "id": "cnF7k_7H4eTO"
      },
      "source": [
        "Compute the mean of the sampling distribution."
      ]
    },
    {
      "cell_type": "code",
      "metadata": {
        "colab": {
          "base_uri": "https://localhost:8080/"
        },
        "id": "tGzTQ9z84hO6",
        "outputId": "a8826338-3917-46f5-e810-6cb0b7e60379"
      },
      "source": [
        "mean = thinkstats2.Mean(slopes)\n",
        "mean"
      ],
      "execution_count": 19,
      "outputs": [
        {
          "output_type": "execute_result",
          "data": {
            "text/plain": [
              "0.005281074413825519"
            ]
          },
          "metadata": {
            "tags": []
          },
          "execution_count": 19
        }
      ]
    },
    {
      "cell_type": "markdown",
      "metadata": {
        "id": "3aowTjYl4lkQ"
      },
      "source": [
        "Compute the standard deviation of the sampling distribution, which is the standard error."
      ]
    },
    {
      "cell_type": "code",
      "metadata": {
        "colab": {
          "base_uri": "https://localhost:8080/"
        },
        "id": "cahHx7Jq4pBP",
        "outputId": "414698bf-e8bb-4e2c-bb9e-5a62c538a919"
      },
      "source": [
        "stderr = thinkstats2.Std(slopes)\n",
        "stderr"
      ],
      "execution_count": 20,
      "outputs": [
        {
          "output_type": "execute_result",
          "data": {
            "text/plain": [
              "1.4197094551191132e-05"
            ]
          },
          "metadata": {
            "tags": []
          },
          "execution_count": 20
        }
      ]
    },
    {
      "cell_type": "markdown",
      "metadata": {
        "id": "U-YMINcF4tm_"
      },
      "source": [
        "Resample rows without weights, compute mean height, and summarize results."
      ]
    },
    {
      "cell_type": "markdown",
      "metadata": {
        "id": "VeNmjGsW5E1w"
      },
      "source": [
        "The following function takes a list of estimates and prints the mean, standard error, and 90% confidence interval.\n",
        "\n"
      ]
    },
    {
      "cell_type": "code",
      "metadata": {
        "id": "q4rjFh905HqA"
      },
      "source": [
        "%matplotlib inline\n",
        "\n",
        "import random\n",
        "from thinkstats2 import Mean, MeanVar, Var, Std, Cov\n",
        "\n",
        "def Summarize(estimates, actual=None):\n",
        "    mean = Mean(estimates)\n",
        "    stderr = Std(estimates, mu=actual)\n",
        "    cdf = thinkstats2.Cdf(estimates)\n",
        "    ci = cdf.ConfidenceInterval(90)\n",
        "    print('mean, SE, CI', mean, stderr, ci)"
      ],
      "execution_count": 23,
      "outputs": []
    },
    {
      "cell_type": "code",
      "metadata": {
        "colab": {
          "base_uri": "https://localhost:8080/"
        },
        "id": "EZySMnt34xCZ",
        "outputId": "465a1706-2fb4-4ca2-8284-0656a153a5c7"
      },
      "source": [
        "estimates_unweighted = [thinkstats2.ResampleRows(df).htm3.mean() for _ in range(100)]\n",
        "Summarize(estimates_unweighted)"
      ],
      "execution_count": 24,
      "outputs": [
        {
          "output_type": "stream",
          "text": [
            "mean, SE, CI 168.95504752016004 0.0166636960203914 (168.9222599486651, 168.98246225671497)\n"
          ],
          "name": "stdout"
        }
      ]
    },
    {
      "cell_type": "markdown",
      "metadata": {
        "id": "j5AYpcuM7iLk"
      },
      "source": [
        "Resample rows with weights. Note that the weight column in this dataset is called finalwt."
      ]
    },
    {
      "cell_type": "code",
      "metadata": {
        "id": "S4ykYeJ1714e"
      },
      "source": [
        "def ResampleRowsWeighted(df, column='finalwgt'):\n",
        "    weights = df[column]\n",
        "    cdf = thinkstats2.Cdf(dict(weights))\n",
        "    indices = cdf.Sample(len(weights))\n",
        "    sample = df.loc[indices]\n",
        "    return sample"
      ],
      "execution_count": 26,
      "outputs": []
    },
    {
      "cell_type": "code",
      "metadata": {
        "colab": {
          "base_uri": "https://localhost:8080/"
        },
        "id": "zmKKnOwo7jpx",
        "outputId": "3a6f54b5-6de8-401e-c680-4735ae328e36"
      },
      "source": [
        "estimates_weighted = [ResampleRowsWeighted(df, 'finalwt').htm3.mean() for _ in range(100)]\n",
        "Summarize(estimates_weighted)"
      ],
      "execution_count": 27,
      "outputs": [
        {
          "output_type": "stream",
          "text": [
            "mean, SE, CI 170.4959671779947 0.018211349507727324 (170.46811526101982, 170.52943167808564)\n"
          ],
          "name": "stdout"
        }
      ]
    }
  ]
}