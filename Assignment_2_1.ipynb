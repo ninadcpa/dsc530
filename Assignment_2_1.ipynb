{
  "nbformat": 4,
  "nbformat_minor": 0,
  "metadata": {
    "colab": {
      "name": "Assignment_2_1.ipynb",
      "provenance": [],
      "authorship_tag": "ABX9TyMXtvKFhvMv88MclaEGBsav",
      "include_colab_link": true
    },
    "kernelspec": {
      "name": "python3",
      "display_name": "Python 3"
    }
  },
  "cells": [
    {
      "cell_type": "markdown",
      "metadata": {
        "id": "view-in-github",
        "colab_type": "text"
      },
      "source": [
        "<a href=\"https://colab.research.google.com/github/ninadcpa/dsc530/blob/main/Assignment_2_1.ipynb\" target=\"_parent\"><img src=\"https://colab.research.google.com/assets/colab-badge.svg\" alt=\"Open In Colab\"/></a>"
      ]
    },
    {
      "cell_type": "markdown",
      "metadata": {
        "id": "Vvi3LeRCk4-D"
      },
      "source": [
        "# Assignment 2.1\n",
        "# Author - Ninad Patkhedkar\n",
        "# Preparing for Exploratory Data Analysis\n",
        "\n",
        "\n",
        "\n",
        "\n",
        "\n"
      ]
    },
    {
      "cell_type": "code",
      "metadata": {
        "colab": {
          "base_uri": "https://localhost:8080/",
          "height": 0
        },
        "id": "uMeUP4apk1iX",
        "outputId": "d4fb15ce-d66b-4fde-8409-001160a2ec91"
      },
      "source": [
        "print(f'Hello World! I wonder why that is always the default coding text to start with')"
      ],
      "execution_count": 1,
      "outputs": [
        {
          "output_type": "stream",
          "text": [
            "Hello World! I wonder why that is always the default coding text to start with\n"
          ],
          "name": "stdout"
        }
      ]
    },
    {
      "cell_type": "code",
      "metadata": {
        "colab": {
          "base_uri": "https://localhost:8080/",
          "height": 0
        },
        "id": "FdEC8v2smRng",
        "outputId": "45b1dbee-4d98-46d2-8734-3729bfe3c1cd"
      },
      "source": [
        "456 + 982"
      ],
      "execution_count": 2,
      "outputs": [
        {
          "output_type": "execute_result",
          "data": {
            "text/plain": [
              "1438"
            ]
          },
          "metadata": {
            "tags": []
          },
          "execution_count": 2
        }
      ]
    },
    {
      "cell_type": "code",
      "metadata": {
        "colab": {
          "base_uri": "https://localhost:8080/",
          "height": 0
        },
        "id": "XakShxxTmY-d",
        "outputId": "596809a4-7c5e-4b8b-ed6a-45cfa6f632d5"
      },
      "source": [
        "231 - 145"
      ],
      "execution_count": 3,
      "outputs": [
        {
          "output_type": "execute_result",
          "data": {
            "text/plain": [
              "86"
            ]
          },
          "metadata": {
            "tags": []
          },
          "execution_count": 3
        }
      ]
    },
    {
      "cell_type": "code",
      "metadata": {
        "colab": {
          "base_uri": "https://localhost:8080/",
          "height": 0
        },
        "id": "Zdmb60xdmkO8",
        "outputId": "28245ed7-e0f3-4dfc-8289-4b58318b252c"
      },
      "source": [
        "45 * 23"
      ],
      "execution_count": 4,
      "outputs": [
        {
          "output_type": "execute_result",
          "data": {
            "text/plain": [
              "1035"
            ]
          },
          "metadata": {
            "tags": []
          },
          "execution_count": 4
        }
      ]
    },
    {
      "cell_type": "code",
      "metadata": {
        "colab": {
          "base_uri": "https://localhost:8080/",
          "height": 0
        },
        "id": "nzQ13xvtmpbi",
        "outputId": "d67ff4b3-8484-43e1-f07f-c07a812d5da4"
      },
      "source": [
        "729 / 9"
      ],
      "execution_count": 5,
      "outputs": [
        {
          "output_type": "execute_result",
          "data": {
            "text/plain": [
              "81.0"
            ]
          },
          "metadata": {
            "tags": []
          },
          "execution_count": 5
        }
      ]
    },
    {
      "cell_type": "code",
      "metadata": {
        "colab": {
          "base_uri": "https://localhost:8080/",
          "height": 36
        },
        "id": "dxEbknV2ms-P",
        "outputId": "d87fe501-6a89-4e9d-cd4a-68dab6ed2cce"
      },
      "source": [
        "\"Bellevue\" +\" \"+ \"University\""
      ],
      "execution_count": 7,
      "outputs": [
        {
          "output_type": "execute_result",
          "data": {
            "application/vnd.google.colaboratory.intrinsic+json": {
              "type": "string"
            },
            "text/plain": [
              "'Bellevue University'"
            ]
          },
          "metadata": {
            "tags": []
          },
          "execution_count": 7
        }
      ]
    },
    {
      "cell_type": "code",
      "metadata": {
        "colab": {
          "base_uri": "https://localhost:8080/",
          "height": 0
        },
        "id": "SzfpnYCtnB_J",
        "outputId": "c5257334-62fb-4e04-bb29-5b2727b211fb"
      },
      "source": [
        "list = [\"Master\", \"of\",\"Data\",\"Science\",2021]\n",
        "list"
      ],
      "execution_count": 15,
      "outputs": [
        {
          "output_type": "execute_result",
          "data": {
            "text/plain": [
              "['Master', 'of', 'Data', 'Science', 2021]"
            ]
          },
          "metadata": {
            "tags": []
          },
          "execution_count": 15
        }
      ]
    },
    {
      "cell_type": "code",
      "metadata": {
        "colab": {
          "base_uri": "https://localhost:8080/",
          "height": 0
        },
        "id": "JgaGuQA2npJU",
        "outputId": "9aa55e4e-d446-4aeb-e935-db3c9b97060c"
      },
      "source": [
        "list.append(\"EDA\")\n",
        "list"
      ],
      "execution_count": 16,
      "outputs": [
        {
          "output_type": "execute_result",
          "data": {
            "text/plain": [
              "['Master', 'of', 'Data', 'Science', 2021, 'EDA']"
            ]
          },
          "metadata": {
            "tags": []
          },
          "execution_count": 16
        }
      ]
    },
    {
      "cell_type": "code",
      "metadata": {
        "colab": {
          "base_uri": "https://localhost:8080/",
          "height": 0
        },
        "id": "mBfnfuoYoX2Z",
        "outputId": "6f787c9a-46a4-4c74-b879-7cb5f9ebe4c8"
      },
      "source": [
        "tuple = (\"Master\", \"of\",\"Data\",\"Science\",2021)\n",
        "tuple"
      ],
      "execution_count": 17,
      "outputs": [
        {
          "output_type": "execute_result",
          "data": {
            "text/plain": [
              "('Master', 'of', 'Data', 'Science', 2021)"
            ]
          },
          "metadata": {
            "tags": []
          },
          "execution_count": 17
        }
      ]
    }
  ]
}