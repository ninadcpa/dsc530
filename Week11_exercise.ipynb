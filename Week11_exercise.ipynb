{
  "nbformat": 4,
  "nbformat_minor": 0,
  "metadata": {
    "colab": {
      "name": "Week11_exercise.ipynb",
      "provenance": [],
      "authorship_tag": "ABX9TyNYqbMjl46R63Sdr5Fim9oj",
      "include_colab_link": true
    },
    "kernelspec": {
      "name": "python3",
      "display_name": "Python 3"
    }
  },
  "cells": [
    {
      "cell_type": "markdown",
      "metadata": {
        "id": "view-in-github",
        "colab_type": "text"
      },
      "source": [
        "<a href=\"https://colab.research.google.com/github/ninadcpa/dsc530/blob/main/Week11_exercise.ipynb\" target=\"_parent\"><img src=\"https://colab.research.google.com/assets/colab-badge.svg\" alt=\"Open In Colab\"/></a>"
      ]
    },
    {
      "cell_type": "markdown",
      "metadata": {
        "id": "raw3X5gy43f6"
      },
      "source": [
        "# Week 11 Exercise - 13.1\n",
        "\n",
        "@author Ninad Patkhedkar"
      ]
    },
    {
      "cell_type": "code",
      "metadata": {
        "colab": {
          "base_uri": "https://localhost:8080/"
        },
        "id": "XcCPt1C24Um3",
        "outputId": "714e254b-e595-49f1-fd49-b742a4d3b3ab"
      },
      "source": [
        "from google.colab import drive\n",
        "import sys\n",
        "import os\n",
        "\n",
        "# This code is to just use code checked out from github on google drive\n",
        "drive.mount('/content/drive')\n",
        "sys.path.append('/content/drive/MyDrive/Colab Notebooks/ThinkStats/ThinkStats2/code/')\n",
        "os.chdir('/content/drive/MyDrive/Colab Notebooks/ThinkStats/ThinkStats2/code/')"
      ],
      "execution_count": 1,
      "outputs": [
        {
          "output_type": "stream",
          "text": [
            "Drive already mounted at /content/drive; to attempt to forcibly remount, call drive.mount(\"/content/drive\", force_remount=True).\n"
          ],
          "name": "stdout"
        }
      ]
    },
    {
      "cell_type": "markdown",
      "metadata": {
        "id": "xHwoHJ206sRv"
      },
      "source": [
        "**Exercise 1**   In NSFG Cycles 6 and 7, the variable cmdivorcx contains the date of divorce for the respondent’s first marriage, if applicable, encoded in century-months.\n",
        "Compute the duration of marriages that have ended in divorce, and the duration, so far, of marriages that are ongoing. Estimate the hazard and survival curve for the duration of marriage.\n",
        "\n",
        "Use resampling to take into account sampling weights, and plot data from several resamples to visualize sampling error.\n",
        "\n",
        "Consider dividing the respondents into groups by decade of birth, and possibly by age at first marriage."
      ]
    },
    {
      "cell_type": "code",
      "metadata": {
        "id": "Zh9mgNLa5Gk3"
      },
      "source": [
        "from __future__ import print_function\n",
        "\n",
        "import pandas as pd\n",
        "import numpy as np\n",
        "\n",
        "import thinkplot\n",
        "import thinkstats2\n",
        "import survival\n",
        "\n",
        "def CleanData(resp):\n",
        "    \"\"\"Cleans respondent data.\n",
        "\n",
        "    resp: DataFrame\n",
        "    \"\"\"\n",
        "    resp.cmdivorcx.replace([9998, 9999], np.nan, inplace=True)\n",
        "\n",
        "    resp['notdivorced'] = resp.cmdivorcx.isnull().astype(int)\n",
        "    resp['duration'] = (resp.cmdivorcx - resp.cmmarrhx) / 12.0\n",
        "    resp['durationsofar'] = (resp.cmintvw - resp.cmmarrhx) / 12.0\n",
        "\n",
        "    month0 = pd.to_datetime('1899-12-15')\n",
        "    dates = [month0 + pd.DateOffset(months=cm) \n",
        "             for cm in resp.cmbirth]\n",
        "    resp['decade'] = (pd.DatetimeIndex(dates).year - 1900) // 10\n"
      ],
      "execution_count": 4,
      "outputs": []
    },
    {
      "cell_type": "code",
      "metadata": {
        "id": "2cB78L765a5p"
      },
      "source": [
        "resp6 = survival.ReadFemResp2002()\n",
        "CleanData(resp6)"
      ],
      "execution_count": 5,
      "outputs": []
    },
    {
      "cell_type": "code",
      "metadata": {
        "id": "kYf3vJZU-NHq"
      },
      "source": [
        "married6 = resp6[resp6.evrmarry==1]"
      ],
      "execution_count": 6,
      "outputs": []
    },
    {
      "cell_type": "code",
      "metadata": {
        "id": "PqbfNI0I5_iD"
      },
      "source": [
        "resp7 = survival.ReadFemResp2010()\n",
        "CleanData(resp7)"
      ],
      "execution_count": 7,
      "outputs": []
    },
    {
      "cell_type": "code",
      "metadata": {
        "id": "TObUVvKI6J2G"
      },
      "source": [
        "married7 = resp7[resp7.evrmarry==1]"
      ],
      "execution_count": 8,
      "outputs": []
    },
    {
      "cell_type": "code",
      "metadata": {
        "id": "Rl6ZM82--asz"
      },
      "source": [
        "def ResampleDivorceCurve(resps):\n",
        "    \"\"\"Plots divorce curves based on resampled data.\n",
        "\n",
        "    resps: list of respondent DataFrames\n",
        "    \"\"\"\n",
        "    for _ in range(11):\n",
        "        samples = [thinkstats2.ResampleRowsWeighted(resp) \n",
        "                   for resp in resps]\n",
        "        sample = pd.concat(samples, ignore_index=True)\n",
        "        PlotDivorceCurveByDecade(sample, color='#225EA8', alpha=0.1)\n",
        "\n",
        "    thinkplot.Show(xlabel='years',\n",
        "                   axis=[0, 28, 0, 1])"
      ],
      "execution_count": 9,
      "outputs": []
    },
    {
      "cell_type": "code",
      "metadata": {
        "id": "XfgkvG2b-gxd"
      },
      "source": [
        "def ResampleDivorceCurveByDecade(resps):\n",
        "    \"\"\"Plots divorce curves for each birth cohort.\n",
        "\n",
        "    resps: list of respondent DataFrames    \n",
        "    \"\"\"\n",
        "    for i in range(41):\n",
        "        samples = [thinkstats2.ResampleRowsWeighted(resp) \n",
        "                   for resp in resps]\n",
        "        sample = pd.concat(samples, ignore_index=True)\n",
        "        groups = sample.groupby('decade')\n",
        "        if i == 0:\n",
        "            survival.AddLabelsByDecade(groups, alpha=0.7)\n",
        "\n",
        "        EstimateSurvivalByDecade(groups, alpha=0.1)\n",
        "\n",
        "    thinkplot.Config(xlabel='Years',\n",
        "                     ylabel='Fraction undivorced',\n",
        "                     axis=[0, 28, 0, 1])"
      ],
      "execution_count": 10,
      "outputs": []
    },
    {
      "cell_type": "code",
      "metadata": {
        "id": "vdVTiMaf-mop"
      },
      "source": [
        "def EstimateSurvivalByDecade(groups, **options):\n",
        "    \"\"\"Groups respondents by decade and plots survival curves.\n",
        "\n",
        "    groups: GroupBy object\n",
        "    \"\"\"\n",
        "    thinkplot.PrePlot(len(groups))\n",
        "    for name, group in groups:\n",
        "        _, sf = EstimateSurvival(group)\n",
        "        thinkplot.Plot(sf, **options)"
      ],
      "execution_count": 11,
      "outputs": []
    },
    {
      "cell_type": "code",
      "metadata": {
        "id": "ck4Ay-n7-sYR"
      },
      "source": [
        "def EstimateSurvival(resp):\n",
        "    \"\"\"Estimates the survival curve.\n",
        "\n",
        "    resp: DataFrame of respondents\n",
        "\n",
        "    returns: pair of HazardFunction, SurvivalFunction\n",
        "    \"\"\"\n",
        "    complete = resp[resp.notdivorced == 0].duration.dropna()\n",
        "    ongoing = resp[resp.notdivorced == 1].durationsofar.dropna()\n",
        "\n",
        "    hf = survival.EstimateHazardFunction(complete, ongoing)\n",
        "    sf = hf.MakeSurvival()\n",
        "\n",
        "    return hf, sf"
      ],
      "execution_count": 12,
      "outputs": []
    },
    {
      "cell_type": "code",
      "metadata": {
        "colab": {
          "base_uri": "https://localhost:8080/",
          "height": 283
        },
        "id": "0Kbt3fqY-xtQ",
        "outputId": "b7a5a697-86e8-47b0-bff5-0335193f212f"
      },
      "source": [
        "ResampleDivorceCurveByDecade([married6, married7])"
      ],
      "execution_count": 13,
      "outputs": [
        {
          "output_type": "display_data",
          "data": {
            "image/png": "[encoded data removed]",
            "text/plain": [
              "<Figure size 432x288 with 1 Axes>"
            ]
          },
          "metadata": {
            "tags": [],
            "needs_background": "light"
          }
        }
      ]
    }
  ]
}