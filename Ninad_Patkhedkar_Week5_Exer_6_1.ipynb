{
  "nbformat": 4,
  "nbformat_minor": 0,
  "metadata": {
    "colab": {
      "name": "Ninad_Patkhedkar_Week5_Exer_6.1.ipynb",
      "provenance": [],
      "authorship_tag": "ABX9TyPe8EQId/N4a6THjxU0YpPK",
      "include_colab_link": true
    },
    "kernelspec": {
      "name": "python3",
      "display_name": "Python 3"
    }
  },
  "cells": [
    {
      "cell_type": "markdown",
      "metadata": {
        "id": "view-in-github",
        "colab_type": "text"
      },
      "source": [
        "<a href=\"https://colab.research.google.com/github/ninadcpa/dsc530/blob/main/Ninad_Patkhedkar_Week5_Exer_6_1.ipynb\" target=\"_parent\"><img src=\"https://colab.research.google.com/assets/colab-badge.svg\" alt=\"Open In Colab\"/></a>"
      ]
    },
    {
      "cell_type": "markdown",
      "metadata": {
        "id": "RiotswHSYwzo"
      },
      "source": [
        "# Week 5 Exercise 6.1\n",
        "\n",
        "Author - Ninad Patkhedkar"
      ]
    },
    {
      "cell_type": "code",
      "metadata": {
        "colab": {
          "base_uri": "https://localhost:8080/"
        },
        "id": "nRujTsidYufu",
        "outputId": "27fa3e95-cab3-425c-ebe3-e309f1c0fa13"
      },
      "source": [
        "from google.colab import drive\n",
        "import sys\n",
        "import os\n",
        "\n",
        "# This code is to just use code checked out from github on google drive\n",
        "drive.mount('/content/drive')\n",
        "sys.path.append('/content/drive/MyDrive/Colab Notebooks/ThinkStats/ThinkStats2/code/')\n",
        "os.chdir('/content/drive/MyDrive/Colab Notebooks/ThinkStats/ThinkStats2/code/')"
      ],
      "execution_count": 1,
      "outputs": [
        {
          "output_type": "stream",
          "text": [
            "Drive already mounted at /content/drive; to attempt to forcibly remount, call drive.mount(\"/content/drive\", force_remount=True).\n"
          ],
          "name": "stdout"
        }
      ]
    },
    {
      "cell_type": "code",
      "metadata": {
        "colab": {
          "base_uri": "https://localhost:8080/",
          "height": 1000
        },
        "id": "xL41fSJ2ZMEE",
        "outputId": "e0d2c9b3-ab19-4933-9f3f-86f607576471"
      },
      "source": [
        "from __future__ import print_function\n",
        "\n",
        "import numpy as np\n",
        "\n",
        "import density\n",
        "import hinc\n",
        "import thinkplot\n",
        "import thinkstats2\n",
        "import warnings\n",
        "warnings.filterwarnings(\"ignore\")\n",
        "\n",
        "def InterpolateSample(df, log_upper=6.0):\n",
        "    \"\"\"Makes a sample of log10 household income.\n",
        "    Assumes that log10 income is uniform in each range.\n",
        "    df: DataFrame with columns income and freq\n",
        "    log_upper: log10 of the assumed upper bound for the highest range\n",
        "    returns: NumPy array of log10 household income\n",
        "    \"\"\"\n",
        "    # compute the log10 of the upper bound for each range\n",
        "    df['log_upper'] = np.log10(df.income)\n",
        "\n",
        "    # get the lower bounds by shifting the upper bound and filling in\n",
        "    # the first element\n",
        "    df['log_lower'] = df.log_upper.shift(1)\n",
        "    df.log_lower[0] = 3.0\n",
        "\n",
        "    # plug in a value for the unknown upper bound of the highest range\n",
        "    df.log_upper[41] = log_upper\n",
        "\n",
        "    # use the freq column to generate the right number of values in\n",
        "    # each range\n",
        "    arrays = []\n",
        "    for _, row in df.iterrows():\n",
        "        print(f\"Lower: {row.log_lower} , Upper: {row.log_upper}, Freq1: {row.freq}, Freq2: {int(row.freq)} \")\n",
        "        #print(\"Upper: \", row.log_upper)\n",
        "        #print(\"Freq1: \", row.freq)\n",
        "        #print(\"Freq2: \", int(row.freq))\n",
        "        vals = np.linspace(row.log_lower, row.log_upper, int(row.freq))\n",
        "        arrays.append(vals)\n",
        "\n",
        "    # collect the arrays into a single sample\n",
        "    log_sample = np.concatenate(arrays)\n",
        "    return log_sample\n",
        "\n",
        "\n",
        "def main():\n",
        "    df = hinc.ReadData()\n",
        "    log_sample = InterpolateSample(df, log_upper=6.0)\n",
        "\n",
        "    log_cdf = thinkstats2.Cdf(log_sample)\n",
        "    thinkplot.Cdf(log_cdf)\n",
        "    thinkplot.Show(xlabel='household income',\n",
        "                   ylabel='CDF')\n",
        "\n",
        "    sample = np.power(10, log_sample)\n",
        "    mean, median = density.Summarize(sample)\n",
        "\n",
        "    cdf = thinkstats2.Cdf(sample)\n",
        "    print('cdf[mean]', cdf[mean])\n",
        "\n",
        "    pdf = thinkstats2.EstimatedPdf(sample)\n",
        "    thinkplot.Pdf(pdf)\n",
        "    thinkplot.Show(xlabel='household income',\n",
        "                   ylabel='PDF')\n",
        "\n",
        "\n",
        "if __name__ == \"__main__\":\n",
        "    main()"
      ],
      "execution_count": 2,
      "outputs": [
        {
          "output_type": "stream",
          "text": [
            "Lower: 3.0 , Upper: 3.69888313675259, Freq1: 4204.0, Freq2: 4204 \n",
            "Lower: 3.69888313675259 , Upper: 3.9999565683801923, Freq1: 4729.0, Freq2: 4729 \n",
            "Lower: 3.9999565683801923 , Upper: 4.176062305125079, Freq1: 6982.0, Freq2: 6982 \n",
            "Lower: 4.176062305125079 , Upper: 4.301008280397, Freq1: 7157.0, Freq2: 7157 \n",
            "Lower: 4.301008280397 , Upper: 4.397922636545316, Freq1: 7131.0, Freq2: 7131 \n",
            "Lower: 4.397922636545316 , Upper: 4.477106777995652, Freq1: 6740.0, Freq2: 6740 \n",
            "Lower: 4.477106777995652 , Upper: 4.54405563575924, Freq1: 6354.0, Freq2: 6354 \n",
            "Lower: 4.54405563575924 , Upper: 4.602049133830196, Freq1: 5832.0, Freq2: 5832 \n",
            "Lower: 4.602049133830196 , Upper: 4.653202862679622, Freq1: 5547.0, Freq2: 5547 \n",
            "Lower: 4.653202862679622 , Upper: 4.698961318359521, Freq1: 5254.0, Freq2: 5254 \n",
            "Lower: 4.698961318359521 , Upper: 4.740354793159152, Freq1: 5102.0, Freq2: 5102 \n",
            "Lower: 4.740354793159152 , Upper: 4.77814401208196, Freq1: 4256.0, Freq2: 4256 \n",
            "Lower: 4.77814401208196 , Upper: 4.812906675137891, Freq1: 4356.0, Freq2: 4356 \n",
            "Lower: 4.812906675137891 , Upper: 4.845091835763056, Freq1: 3949.0, Freq2: 3949 \n",
            "Lower: 4.845091835763056 , Upper: 4.875055472760003, Freq1: 3756.0, Freq2: 3756 \n",
            "Lower: 4.875055472760003 , Upper: 4.903084558276991, Freq1: 3414.0, Freq2: 3414 \n",
            "Lower: 4.903084558276991 , Upper: 4.929413816337392, Freq1: 3326.0, Freq2: 3326 \n",
            "Lower: 4.929413816337392 , Upper: 4.954237683918273, Freq1: 2643.0, Freq2: 2643 \n",
            "Lower: 4.954237683918273 , Upper: 4.9777190337439245, Freq1: 2678.0, Freq2: 2678 \n",
            "Lower: 4.9777190337439245 , Upper: 4.999995657033466, Freq1: 2223.0, Freq2: 2223 \n",
            "Lower: 4.999995657033466 , Upper: 5.021185162912319, Freq1: 2606.0, Freq2: 2606 \n",
            "Lower: 5.021185162912319 , Upper: 5.041388737008625, Freq1: 1838.0, Freq2: 1838 \n",
            "Lower: 5.041388737008625 , Upper: 5.060694063863436, Freq1: 1986.0, Freq2: 1986 \n",
            "Lower: 5.060694063863436 , Upper: 5.0791776269118625, Freq1: 1464.0, Freq2: 1464 \n",
            "Lower: 5.0791776269118625 , Upper: 5.0969065386383035, Freq1: 1596.0, Freq2: 1596 \n",
            "Lower: 5.0969065386383035 , Upper: 5.113940011567204, Freq1: 1327.0, Freq2: 1327 \n",
            "Lower: 5.113940011567204 , Upper: 5.130330551486929, Freq1: 1253.0, Freq2: 1253 \n",
            "Lower: 5.130330551486929 , Upper: 5.1461249335637165, Freq1: 1140.0, Freq2: 1140 \n",
            "Lower: 5.1461249335637165 , Upper: 5.161365007090289, Freq1: 1119.0, Freq2: 1119 \n",
            "Lower: 5.161365007090289 , Upper: 5.176088363749484, Freq1: 920.0, Freq2: 920 \n",
            "Lower: 5.176088363749484 , Upper: 5.19032889626137, Freq1: 1143.0, Freq2: 1143 \n",
            "Lower: 5.19032889626137 , Upper: 5.2041172683069306, Freq1: 805.0, Freq2: 805 \n",
            "Lower: 5.2041172683069306 , Upper: 5.217481312118161, Freq1: 731.0, Freq2: 731 \n",
            "Lower: 5.217481312118161 , Upper: 5.230446366697337, Freq1: 575.0, Freq2: 575 \n",
            "Lower: 5.230446366697337 , Upper: 5.243035566996451, Freq1: 616.0, Freq2: 616 \n",
            "Lower: 5.243035566996451 , Upper: 5.255270092349482, Freq1: 570.0, Freq2: 570 \n",
            "Lower: 5.255270092349482 , Upper: 5.267169380858929, Freq1: 502.0, Freq2: 502 \n",
            "Lower: 5.267169380858929 , Upper: 5.2787513151863825, Freq1: 364.0, Freq2: 364 \n",
            "Lower: 5.2787513151863825 , Upper: 5.2900323842056185, Freq1: 432.0, Freq2: 432 \n",
            "Lower: 5.2900323842056185 , Upper: 5.301027824186143, Freq1: 378.0, Freq2: 378 \n",
            "Lower: 5.301027824186143 , Upper: 5.397938271490636, Freq1: 2549.0, Freq2: 2549 \n",
            "Lower: 5.397938271490636 , Upper: 6.0, Freq1: 2911.0, Freq2: 2911 \n"
          ],
          "name": "stdout"
        },
        {
          "output_type": "display_data",
          "data": {
            "image/png": "[encoded data removed]",
            "text/plain": [
              "<Figure size 432x288 with 1 Axes>"
            ]
          },
          "metadata": {
            "tags": [],
            "needs_background": "light"
          }
        },
        {
          "output_type": "stream",
          "text": [
            "mean 74278.7075311872\n",
            "std 93946.9299634784\n",
            "median 51226.45447894046\n",
            "skewness 4.949920244429579\n",
            "pearson skewness 0.7361258019141795\n",
            "cdf[mean] 0.660005879566872\n"
          ],
          "name": "stdout"
        },
        {
          "output_type": "display_data",
          "data": {
            "image/png": "[encoded data removed]",
            "text/plain": [
              "<Figure size 576x432 with 1 Axes>"
            ]
          },
          "metadata": {
            "tags": [],
            "needs_background": "light"
          }
        },
        {
          "output_type": "display_data",
          "data": {
            "text/plain": [
              "<Figure size 576x432 with 0 Axes>"
            ]
          },
          "metadata": {
            "tags": []
          }
        }
      ]
    }
  ]
}