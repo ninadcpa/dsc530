{
  "nbformat": 4,
  "nbformat_minor": 0,
  "metadata": {
    "colab": {
      "name": "EDA_Final_term_project.ipynb",
      "provenance": [],
      "collapsed_sections": [],
      "authorship_tag": "ABX9TyM1Gy1mzjH0T9NctgPxoBRe",
      "include_colab_link": true
    },
    "kernelspec": {
      "name": "python3",
      "display_name": "Python 3"
    }
  },
  "cells": [
    {
      "cell_type": "markdown",
      "metadata": {
        "id": "view-in-github",
        "colab_type": "text"
      },
      "source": [
        "<a href=\"https://colab.research.google.com/github/ninadcpa/dsc530/blob/main/EDA_Final_term_project.ipynb\" target=\"_parent\"><img src=\"https://colab.research.google.com/assets/colab-badge.svg\" alt=\"Open In Colab\"/></a>"
      ]
    },
    {
      "cell_type": "markdown",
      "metadata": {
        "id": "GZrdgCv5J6ZI"
      },
      "source": [
        "# Exploratory Data Analysis - Final Project\n",
        "\n",
        "@Author - Ninad Patkhedkar  \n",
        "Term - Winter 2020  \n",
        "Bellevue University\n",
        "\n",
        "Data Set is picked from - https://www.kaggle.com/mathurinache/world-happiness-report\n",
        "\n",
        "LICENSE - CC0: Public Domain\n",
        "\n",
        "With This dataset, I will perform EDA and try to find answers for qustions like\n",
        "\n",
        "1.   Which countries are on extereme end of happiness spectrum?\n",
        "2.   Is any specific region of world more happier than others?\n",
        "3.   How much financial well being of country impacts happiness score?\n",
        "\n",
        "4.   How badly corruption impacts happiness score?\n",
        "5.   How Generosity and Freedom of choices matters?  "
      ]
    },
    {
      "cell_type": "code",
      "metadata": {
        "colab": {
          "base_uri": "https://localhost:8080/"
        },
        "id": "VKI3sXX9JrLA",
        "outputId": "88c515d7-eaf4-41b6-fa8f-fe5ff438e7e5"
      },
      "source": [
        "from google.colab import drive\n",
        "import sys\n",
        "import os\n",
        "\n",
        "# This code is to just use code checked out from github on google drive\n",
        "drive.mount('/content/drive')\n",
        "sys.path.append('/content/drive/MyDrive/Colab Notebooks/ThinkStats/ThinkStats2/code/')\n",
        "os.chdir('/content/drive/MyDrive/Colab Notebooks/ThinkStats/ThinkStats2/code/')"
      ],
      "execution_count": null,
      "outputs": [
        {
          "output_type": "stream",
          "text": [
            "Drive already mounted at /content/drive; to attempt to forcibly remount, call drive.mount(\"/content/drive\", force_remount=True).\n"
          ],
          "name": "stdout"
        }
      ]
    },
    {
      "cell_type": "code",
      "metadata": {
        "id": "CA-KvQckKwtT"
      },
      "source": [
        "from __future__ import print_function\n",
        "\n",
        "import pandas as pd\n",
        "import numpy as np\n",
        "import matplotlib.pyplot as plt\n",
        "import seaborn as sns\n",
        "%matplotlib inline\n",
        "\n",
        "import warnings\n",
        "warnings.filterwarnings('ignore', category=FutureWarning)\n",
        "\n",
        "#pd.set_option(\"display.precision\", 2)\n",
        "missing_values = [\"n/a\", \"na\", \"--\",\"\"]\n",
        "df = pd.read_csv('2020.csv',na_values = missing_values)"
      ],
      "execution_count": null,
      "outputs": []
    },
    {
      "cell_type": "code",
      "metadata": {
        "colab": {
          "base_uri": "https://localhost:8080/",
          "height": 394
        },
        "id": "nz6eJTSmMOuW",
        "outputId": "9501fe37-b70c-4ead-8f09-0a941d90d22d"
      },
      "source": [
        "df.head()"
      ],
      "execution_count": null,
      "outputs": [
        {
          "output_type": "execute_result",
          "data": {
            "text/html": [
              "<div>\n",
              "<style scoped>\n",
              "    .dataframe tbody tr th:only-of-type {\n",
              "        vertical-align: middle;\n",
              "    }\n",
              "\n",
              "    .dataframe tbody tr th {\n",
              "        vertical-align: top;\n",
              "    }\n",
              "\n",
              "    .dataframe thead th {\n",
              "        text-align: right;\n",
              "    }\n",
              "</style>\n",
              "<table border=\"1\" class=\"dataframe\">\n",
              "  <thead>\n",
              "    <tr style=\"text-align: right;\">\n",
              "      <th></th>\n",
              "      <th>Country name</th>\n",
              "      <th>Regional indicator</th>\n",
              "      <th>Ladder score</th>\n",
              "      <th>Standard error of ladder score</th>\n",
              "      <th>upperwhisker</th>\n",
              "      <th>lowerwhisker</th>\n",
              "      <th>Logged GDP per capita</th>\n",
              "      <th>Social support</th>\n",
              "      <th>Healthy life expectancy</th>\n",
              "      <th>Freedom to make life choices</th>\n",
              "      <th>Generosity</th>\n",
              "      <th>Perceptions of corruption</th>\n",
              "      <th>Ladder score in Dystopia</th>\n",
              "      <th>Explained by: Log GDP per capita</th>\n",
              "      <th>Explained by: Social support</th>\n",
              "      <th>Explained by: Healthy life expectancy</th>\n",
              "      <th>Explained by: Freedom to make life choices</th>\n",
              "      <th>Explained by: Generosity</th>\n",
              "      <th>Explained by: Perceptions of corruption</th>\n",
              "      <th>Dystopia + residual</th>\n",
              "    </tr>\n",
              "  </thead>\n",
              "  <tbody>\n",
              "    <tr>\n",
              "      <th>0</th>\n",
              "      <td>Finland</td>\n",
              "      <td>Western Europe</td>\n",
              "      <td>7.8087</td>\n",
              "      <td>0.031156</td>\n",
              "      <td>7.869766</td>\n",
              "      <td>7.747634</td>\n",
              "      <td>10.639267</td>\n",
              "      <td>0.954330</td>\n",
              "      <td>71.900825</td>\n",
              "      <td>0.949172</td>\n",
              "      <td>-0.059482</td>\n",
              "      <td>0.195445</td>\n",
              "      <td>1.972317</td>\n",
              "      <td>1.285190</td>\n",
              "      <td>1.499526</td>\n",
              "      <td>0.961271</td>\n",
              "      <td>0.662317</td>\n",
              "      <td>0.159670</td>\n",
              "      <td>0.477857</td>\n",
              "      <td>2.762835</td>\n",
              "    </tr>\n",
              "    <tr>\n",
              "      <th>1</th>\n",
              "      <td>Denmark</td>\n",
              "      <td>Western Europe</td>\n",
              "      <td>7.6456</td>\n",
              "      <td>0.033492</td>\n",
              "      <td>7.711245</td>\n",
              "      <td>7.579955</td>\n",
              "      <td>10.774001</td>\n",
              "      <td>0.955991</td>\n",
              "      <td>72.402504</td>\n",
              "      <td>0.951444</td>\n",
              "      <td>0.066202</td>\n",
              "      <td>0.168489</td>\n",
              "      <td>1.972317</td>\n",
              "      <td>1.326949</td>\n",
              "      <td>1.503449</td>\n",
              "      <td>0.979333</td>\n",
              "      <td>0.665040</td>\n",
              "      <td>0.242793</td>\n",
              "      <td>0.495260</td>\n",
              "      <td>2.432741</td>\n",
              "    </tr>\n",
              "    <tr>\n",
              "      <th>2</th>\n",
              "      <td>Switzerland</td>\n",
              "      <td>Western Europe</td>\n",
              "      <td>7.5599</td>\n",
              "      <td>0.035014</td>\n",
              "      <td>7.628528</td>\n",
              "      <td>7.491272</td>\n",
              "      <td>10.979933</td>\n",
              "      <td>0.942847</td>\n",
              "      <td>74.102448</td>\n",
              "      <td>0.921337</td>\n",
              "      <td>0.105911</td>\n",
              "      <td>0.303728</td>\n",
              "      <td>1.972317</td>\n",
              "      <td>1.390774</td>\n",
              "      <td>1.472403</td>\n",
              "      <td>1.040533</td>\n",
              "      <td>0.628954</td>\n",
              "      <td>0.269056</td>\n",
              "      <td>0.407946</td>\n",
              "      <td>2.350267</td>\n",
              "    </tr>\n",
              "    <tr>\n",
              "      <th>3</th>\n",
              "      <td>Iceland</td>\n",
              "      <td>Western Europe</td>\n",
              "      <td>7.5045</td>\n",
              "      <td>0.059616</td>\n",
              "      <td>7.621347</td>\n",
              "      <td>7.387653</td>\n",
              "      <td>10.772559</td>\n",
              "      <td>0.974670</td>\n",
              "      <td>73.000000</td>\n",
              "      <td>0.948892</td>\n",
              "      <td>0.246944</td>\n",
              "      <td>0.711710</td>\n",
              "      <td>1.972317</td>\n",
              "      <td>1.326502</td>\n",
              "      <td>1.547567</td>\n",
              "      <td>1.000843</td>\n",
              "      <td>0.661981</td>\n",
              "      <td>0.362330</td>\n",
              "      <td>0.144541</td>\n",
              "      <td>2.460688</td>\n",
              "    </tr>\n",
              "    <tr>\n",
              "      <th>4</th>\n",
              "      <td>Norway</td>\n",
              "      <td>Western Europe</td>\n",
              "      <td>7.4880</td>\n",
              "      <td>0.034837</td>\n",
              "      <td>7.556281</td>\n",
              "      <td>7.419719</td>\n",
              "      <td>11.087804</td>\n",
              "      <td>0.952487</td>\n",
              "      <td>73.200783</td>\n",
              "      <td>0.955750</td>\n",
              "      <td>0.134533</td>\n",
              "      <td>0.263218</td>\n",
              "      <td>1.972317</td>\n",
              "      <td>1.424207</td>\n",
              "      <td>1.495173</td>\n",
              "      <td>1.008072</td>\n",
              "      <td>0.670201</td>\n",
              "      <td>0.287985</td>\n",
              "      <td>0.434101</td>\n",
              "      <td>2.168266</td>\n",
              "    </tr>\n",
              "  </tbody>\n",
              "</table>\n",
              "</div>"
            ],
            "text/plain": [
              "  Country name  ... Dystopia + residual\n",
              "0      Finland  ...            2.762835\n",
              "1      Denmark  ...            2.432741\n",
              "2  Switzerland  ...            2.350267\n",
              "3      Iceland  ...            2.460688\n",
              "4       Norway  ...            2.168266\n",
              "\n",
              "[5 rows x 20 columns]"
            ]
          },
          "metadata": {
            "tags": []
          },
          "execution_count": 3
        }
      ]
    },
    {
      "cell_type": "markdown",
      "metadata": {
        "id": "FMbkXFfyHt4t"
      },
      "source": [
        "Overall dataset looks very clean. Lets verify if there are any missing values."
      ]
    },
    {
      "cell_type": "code",
      "metadata": {
        "colab": {
          "base_uri": "https://localhost:8080/"
        },
        "id": "0prOcH_SHi-I",
        "outputId": "a51aa582-3e83-457b-dec0-61f2f8762908"
      },
      "source": [
        "# Total missing values for each feature\n",
        "df.isnull().sum()"
      ],
      "execution_count": null,
      "outputs": [
        {
          "output_type": "execute_result",
          "data": {
            "text/plain": [
              "Country name                                  0\n",
              "Regional indicator                            0\n",
              "Ladder score                                  0\n",
              "Standard error of ladder score                0\n",
              "upperwhisker                                  0\n",
              "lowerwhisker                                  0\n",
              "Logged GDP per capita                         0\n",
              "Social support                                0\n",
              "Healthy life expectancy                       0\n",
              "Freedom to make life choices                  0\n",
              "Generosity                                    0\n",
              "Perceptions of corruption                     0\n",
              "Ladder score in Dystopia                      0\n",
              "Explained by: Log GDP per capita              0\n",
              "Explained by: Social support                  0\n",
              "Explained by: Healthy life expectancy         0\n",
              "Explained by: Freedom to make life choices    0\n",
              "Explained by: Generosity                      0\n",
              "Explained by: Perceptions of corruption       0\n",
              "Dystopia + residual                           0\n",
              "dtype: int64"
            ]
          },
          "metadata": {
            "tags": []
          },
          "execution_count": 4
        }
      ]
    },
    {
      "cell_type": "markdown",
      "metadata": {
        "id": "KcbAe8ASH79h"
      },
      "source": [
        "Dataset doesn't have any missing values. Hence no cleanup work is required."
      ]
    },
    {
      "cell_type": "code",
      "metadata": {
        "colab": {
          "base_uri": "https://localhost:8080/"
        },
        "id": "A8BUlWoWMbuv",
        "outputId": "c6b7280b-e800-4b11-d1af-bcb4eecb0438"
      },
      "source": [
        "df.shape"
      ],
      "execution_count": null,
      "outputs": [
        {
          "output_type": "execute_result",
          "data": {
            "text/plain": [
              "(153, 20)"
            ]
          },
          "metadata": {
            "tags": []
          },
          "execution_count": 5
        }
      ]
    },
    {
      "cell_type": "code",
      "metadata": {
        "colab": {
          "base_uri": "https://localhost:8080/"
        },
        "id": "CZ302_y0MpoX",
        "outputId": "eccd3063-2041-47e6-feba-893ffd16bd0e"
      },
      "source": [
        "df.info()"
      ],
      "execution_count": null,
      "outputs": [
        {
          "output_type": "stream",
          "text": [
            "<class 'pandas.core.frame.DataFrame'>\n",
            "RangeIndex: 153 entries, 0 to 152\n",
            "Data columns (total 20 columns):\n",
            " #   Column                                      Non-Null Count  Dtype  \n",
            "---  ------                                      --------------  -----  \n",
            " 0   Country name                                153 non-null    object \n",
            " 1   Regional indicator                          153 non-null    object \n",
            " 2   Ladder score                                153 non-null    float64\n",
            " 3   Standard error of ladder score              153 non-null    float64\n",
            " 4   upperwhisker                                153 non-null    float64\n",
            " 5   lowerwhisker                                153 non-null    float64\n",
            " 6   Logged GDP per capita                       153 non-null    float64\n",
            " 7   Social support                              153 non-null    float64\n",
            " 8   Healthy life expectancy                     153 non-null    float64\n",
            " 9   Freedom to make life choices                153 non-null    float64\n",
            " 10  Generosity                                  153 non-null    float64\n",
            " 11  Perceptions of corruption                   153 non-null    float64\n",
            " 12  Ladder score in Dystopia                    153 non-null    float64\n",
            " 13  Explained by: Log GDP per capita            153 non-null    float64\n",
            " 14  Explained by: Social support                153 non-null    float64\n",
            " 15  Explained by: Healthy life expectancy       153 non-null    float64\n",
            " 16  Explained by: Freedom to make life choices  153 non-null    float64\n",
            " 17  Explained by: Generosity                    153 non-null    float64\n",
            " 18  Explained by: Perceptions of corruption     153 non-null    float64\n",
            " 19  Dystopia + residual                         153 non-null    float64\n",
            "dtypes: float64(18), object(2)\n",
            "memory usage: 24.0+ KB\n"
          ],
          "name": "stdout"
        }
      ]
    },
    {
      "cell_type": "markdown",
      "metadata": {
        "id": "d4WyEFxzSAgR"
      },
      "source": [
        "Extarcting 5 variables\n",
        "\n",
        "---\n",
        "\n",
        "GDP per capita  \n",
        "Healthy Life Expectancy  \n",
        "Social support  \n",
        "Freedom to make life choices  \n",
        "Generosity  \n",
        "Corruption Perception"
      ]
    },
    {
      "cell_type": "code",
      "metadata": {
        "id": "B_pD8B81SP4P"
      },
      "source": [
        "df =  df.rename(columns={'Country name': 'Country', \n",
        "                         'Regional indicator': 'Region',\n",
        "                         'Ladder score':'Happiness',\n",
        "                         'Logged GDP per capita': 'GDP_Capita',\n",
        "                         'Social support': 'Social_Support',\n",
        "                         'Healthy life expectancy': 'Life_Expectancy',\n",
        "                         'Freedom to make life choices': 'Freedom_Choice',\n",
        "                         'Perceptions of corruption': 'Corruption'})"
      ],
      "execution_count": null,
      "outputs": []
    },
    {
      "cell_type": "code",
      "metadata": {
        "colab": {
          "base_uri": "https://localhost:8080/"
        },
        "id": "kPBaQ8PmYKAv",
        "outputId": "8ac0e742-3c29-420f-81e1-361b8089c082"
      },
      "source": [
        "df.info()"
      ],
      "execution_count": null,
      "outputs": [
        {
          "output_type": "stream",
          "text": [
            "<class 'pandas.core.frame.DataFrame'>\n",
            "RangeIndex: 153 entries, 0 to 152\n",
            "Data columns (total 20 columns):\n",
            " #   Column                                      Non-Null Count  Dtype  \n",
            "---  ------                                      --------------  -----  \n",
            " 0   Country                                     153 non-null    object \n",
            " 1   Region                                      153 non-null    object \n",
            " 2   Happiness                                   153 non-null    float64\n",
            " 3   Standard error of ladder score              153 non-null    float64\n",
            " 4   upperwhisker                                153 non-null    float64\n",
            " 5   lowerwhisker                                153 non-null    float64\n",
            " 6   GDP_Capita                                  153 non-null    float64\n",
            " 7   Social_Support                              153 non-null    float64\n",
            " 8   Life_Expectancy                             153 non-null    float64\n",
            " 9   Freedom_Choice                              153 non-null    float64\n",
            " 10  Generosity                                  153 non-null    float64\n",
            " 11  Corruption                                  153 non-null    float64\n",
            " 12  Ladder score in Dystopia                    153 non-null    float64\n",
            " 13  Explained by: Log GDP per capita            153 non-null    float64\n",
            " 14  Explained by: Social support                153 non-null    float64\n",
            " 15  Explained by: Healthy life expectancy       153 non-null    float64\n",
            " 16  Explained by: Freedom to make life choices  153 non-null    float64\n",
            " 17  Explained by: Generosity                    153 non-null    float64\n",
            " 18  Explained by: Perceptions of corruption     153 non-null    float64\n",
            " 19  Dystopia + residual                         153 non-null    float64\n",
            "dtypes: float64(18), object(2)\n",
            "memory usage: 24.0+ KB\n"
          ],
          "name": "stdout"
        }
      ]
    },
    {
      "cell_type": "code",
      "metadata": {
        "colab": {
          "base_uri": "https://localhost:8080/",
          "height": 204
        },
        "id": "cEcA5Z2pVcnr",
        "outputId": "78594ae2-033f-45f0-eac1-bf7e6b3231f3"
      },
      "source": [
        "columns = ['Country','Region','Happiness','GDP_Capita','Social_Support','Generosity','Life_Expectancy','Freedom_Choice','Corruption']\n",
        "happy_df = df[columns]\n",
        "happy_df.sample(5)"
      ],
      "execution_count": null,
      "outputs": [
        {
          "output_type": "execute_result",
          "data": {
            "text/html": [
              "<div>\n",
              "<style scoped>\n",
              "    .dataframe tbody tr th:only-of-type {\n",
              "        vertical-align: middle;\n",
              "    }\n",
              "\n",
              "    .dataframe tbody tr th {\n",
              "        vertical-align: top;\n",
              "    }\n",
              "\n",
              "    .dataframe thead th {\n",
              "        text-align: right;\n",
              "    }\n",
              "</style>\n",
              "<table border=\"1\" class=\"dataframe\">\n",
              "  <thead>\n",
              "    <tr style=\"text-align: right;\">\n",
              "      <th></th>\n",
              "      <th>Country</th>\n",
              "      <th>Region</th>\n",
              "      <th>Happiness</th>\n",
              "      <th>GDP_Capita</th>\n",
              "      <th>Social_Support</th>\n",
              "      <th>Generosity</th>\n",
              "      <th>Life_Expectancy</th>\n",
              "      <th>Freedom_Choice</th>\n",
              "      <th>Corruption</th>\n",
              "    </tr>\n",
              "  </thead>\n",
              "  <tbody>\n",
              "    <tr>\n",
              "      <th>57</th>\n",
              "      <td>Ecuador</td>\n",
              "      <td>Latin America and Caribbean</td>\n",
              "      <td>5.9252</td>\n",
              "      <td>9.246058</td>\n",
              "      <td>0.836419</td>\n",
              "      <td>-0.127015</td>\n",
              "      <td>68.500038</td>\n",
              "      <td>0.859829</td>\n",
              "      <td>0.801215</td>\n",
              "    </tr>\n",
              "    <tr>\n",
              "      <th>114</th>\n",
              "      <td>Nigeria</td>\n",
              "      <td>Sub-Saharan Africa</td>\n",
              "      <td>4.7241</td>\n",
              "      <td>8.576625</td>\n",
              "      <td>0.737217</td>\n",
              "      <td>0.033746</td>\n",
              "      <td>49.861908</td>\n",
              "      <td>0.759578</td>\n",
              "      <td>0.861874</td>\n",
              "    </tr>\n",
              "    <tr>\n",
              "      <th>58</th>\n",
              "      <td>Portugal</td>\n",
              "      <td>Western Europe</td>\n",
              "      <td>5.9109</td>\n",
              "      <td>10.263742</td>\n",
              "      <td>0.886591</td>\n",
              "      <td>-0.220714</td>\n",
              "      <td>72.402023</td>\n",
              "      <td>0.888748</td>\n",
              "      <td>0.892630</td>\n",
              "    </tr>\n",
              "    <tr>\n",
              "      <th>11</th>\n",
              "      <td>Australia</td>\n",
              "      <td>North America and ANZ</td>\n",
              "      <td>7.2228</td>\n",
              "      <td>10.720596</td>\n",
              "      <td>0.944855</td>\n",
              "      <td>0.190460</td>\n",
              "      <td>73.604538</td>\n",
              "      <td>0.915432</td>\n",
              "      <td>0.415169</td>\n",
              "    </tr>\n",
              "    <tr>\n",
              "      <th>124</th>\n",
              "      <td>Palestinian Territories</td>\n",
              "      <td>Middle East and North Africa</td>\n",
              "      <td>4.5528</td>\n",
              "      <td>8.389223</td>\n",
              "      <td>0.825296</td>\n",
              "      <td>-0.162079</td>\n",
              "      <td>62.250000</td>\n",
              "      <td>0.645792</td>\n",
              "      <td>0.824200</td>\n",
              "    </tr>\n",
              "  </tbody>\n",
              "</table>\n",
              "</div>"
            ],
            "text/plain": [
              "                     Country  ... Corruption\n",
              "57                   Ecuador  ...   0.801215\n",
              "114                  Nigeria  ...   0.861874\n",
              "58                  Portugal  ...   0.892630\n",
              "11                 Australia  ...   0.415169\n",
              "124  Palestinian Territories  ...   0.824200\n",
              "\n",
              "[5 rows x 9 columns]"
            ]
          },
          "metadata": {
            "tags": []
          },
          "execution_count": 9
        }
      ]
    },
    {
      "cell_type": "code",
      "metadata": {
        "colab": {
          "base_uri": "https://localhost:8080/",
          "height": 297
        },
        "id": "RBB0iQryaV1o",
        "outputId": "999922fb-fd62-4527-a05a-e8701c38e807"
      },
      "source": [
        "happy_df.describe()"
      ],
      "execution_count": null,
      "outputs": [
        {
          "output_type": "execute_result",
          "data": {
            "text/html": [
              "<div>\n",
              "<style scoped>\n",
              "    .dataframe tbody tr th:only-of-type {\n",
              "        vertical-align: middle;\n",
              "    }\n",
              "\n",
              "    .dataframe tbody tr th {\n",
              "        vertical-align: top;\n",
              "    }\n",
              "\n",
              "    .dataframe thead th {\n",
              "        text-align: right;\n",
              "    }\n",
              "</style>\n",
              "<table border=\"1\" class=\"dataframe\">\n",
              "  <thead>\n",
              "    <tr style=\"text-align: right;\">\n",
              "      <th></th>\n",
              "      <th>Happiness</th>\n",
              "      <th>GDP_Capita</th>\n",
              "      <th>Social_Support</th>\n",
              "      <th>Generosity</th>\n",
              "      <th>Life_Expectancy</th>\n",
              "      <th>Freedom_Choice</th>\n",
              "      <th>Corruption</th>\n",
              "    </tr>\n",
              "  </thead>\n",
              "  <tbody>\n",
              "    <tr>\n",
              "      <th>count</th>\n",
              "      <td>153.00000</td>\n",
              "      <td>153.000000</td>\n",
              "      <td>153.000000</td>\n",
              "      <td>153.000000</td>\n",
              "      <td>153.000000</td>\n",
              "      <td>153.000000</td>\n",
              "      <td>153.000000</td>\n",
              "    </tr>\n",
              "    <tr>\n",
              "      <th>mean</th>\n",
              "      <td>5.47324</td>\n",
              "      <td>9.295706</td>\n",
              "      <td>0.808721</td>\n",
              "      <td>-0.014568</td>\n",
              "      <td>64.445529</td>\n",
              "      <td>0.783360</td>\n",
              "      <td>0.733120</td>\n",
              "    </tr>\n",
              "    <tr>\n",
              "      <th>std</th>\n",
              "      <td>1.11227</td>\n",
              "      <td>1.201588</td>\n",
              "      <td>0.121453</td>\n",
              "      <td>0.151809</td>\n",
              "      <td>7.057848</td>\n",
              "      <td>0.117786</td>\n",
              "      <td>0.175172</td>\n",
              "    </tr>\n",
              "    <tr>\n",
              "      <th>min</th>\n",
              "      <td>2.56690</td>\n",
              "      <td>6.492642</td>\n",
              "      <td>0.319460</td>\n",
              "      <td>-0.300907</td>\n",
              "      <td>45.200001</td>\n",
              "      <td>0.396573</td>\n",
              "      <td>0.109784</td>\n",
              "    </tr>\n",
              "    <tr>\n",
              "      <th>25%</th>\n",
              "      <td>4.72410</td>\n",
              "      <td>8.350645</td>\n",
              "      <td>0.737217</td>\n",
              "      <td>-0.127015</td>\n",
              "      <td>58.961712</td>\n",
              "      <td>0.714839</td>\n",
              "      <td>0.683019</td>\n",
              "    </tr>\n",
              "    <tr>\n",
              "      <th>50%</th>\n",
              "      <td>5.51500</td>\n",
              "      <td>9.456313</td>\n",
              "      <td>0.829204</td>\n",
              "      <td>-0.033665</td>\n",
              "      <td>66.305145</td>\n",
              "      <td>0.799805</td>\n",
              "      <td>0.783122</td>\n",
              "    </tr>\n",
              "    <tr>\n",
              "      <th>75%</th>\n",
              "      <td>6.22850</td>\n",
              "      <td>10.265124</td>\n",
              "      <td>0.906747</td>\n",
              "      <td>0.085429</td>\n",
              "      <td>69.289192</td>\n",
              "      <td>0.877709</td>\n",
              "      <td>0.849151</td>\n",
              "    </tr>\n",
              "    <tr>\n",
              "      <th>max</th>\n",
              "      <td>7.80870</td>\n",
              "      <td>11.450681</td>\n",
              "      <td>0.974670</td>\n",
              "      <td>0.560664</td>\n",
              "      <td>76.804581</td>\n",
              "      <td>0.974998</td>\n",
              "      <td>0.935585</td>\n",
              "    </tr>\n",
              "  </tbody>\n",
              "</table>\n",
              "</div>"
            ],
            "text/plain": [
              "       Happiness  GDP_Capita  ...  Freedom_Choice  Corruption\n",
              "count  153.00000  153.000000  ...      153.000000  153.000000\n",
              "mean     5.47324    9.295706  ...        0.783360    0.733120\n",
              "std      1.11227    1.201588  ...        0.117786    0.175172\n",
              "min      2.56690    6.492642  ...        0.396573    0.109784\n",
              "25%      4.72410    8.350645  ...        0.714839    0.683019\n",
              "50%      5.51500    9.456313  ...        0.799805    0.783122\n",
              "75%      6.22850   10.265124  ...        0.877709    0.849151\n",
              "max      7.80870   11.450681  ...        0.974998    0.935585\n",
              "\n",
              "[8 rows x 7 columns]"
            ]
          },
          "metadata": {
            "tags": []
          },
          "execution_count": 10
        }
      ]
    },
    {
      "cell_type": "code",
      "metadata": {
        "colab": {
          "base_uri": "https://localhost:8080/",
          "height": 297
        },
        "id": "KMaPpZfT9YuX",
        "outputId": "b61173a3-af38-4aed-bedc-7085e982f616"
      },
      "source": [
        "sns.histplot(happy_df['Happiness'],kde=True)"
      ],
      "execution_count": null,
      "outputs": [
        {
          "output_type": "execute_result",
          "data": {
            "text/plain": [
              "<matplotlib.axes._subplots.AxesSubplot at 0x7fcfd3702490>"
            ]
          },
          "metadata": {
            "tags": []
          },
          "execution_count": 11
        },
        {
          "output_type": "display_data",
          "data": {
            "image/png": "[encoded data removed]",
            "text/plain": [
              "<Figure size 432x288 with 1 Axes>"
            ]
          },
          "metadata": {
            "tags": [],
            "needs_background": "light"
          }
        }
      ]
    },
    {
      "cell_type": "code",
      "metadata": {
        "colab": {
          "base_uri": "https://localhost:8080/",
          "height": 298
        },
        "id": "ofkrVlmE_pua",
        "outputId": "aed84cc2-d12d-4c43-a882-21df2daf04f1"
      },
      "source": [
        "sns.histplot(happy_df['GDP_Capita'],kde=True)"
      ],
      "execution_count": null,
      "outputs": [
        {
          "output_type": "execute_result",
          "data": {
            "text/plain": [
              "<matplotlib.axes._subplots.AxesSubplot at 0x7fcfd2b2f710>"
            ]
          },
          "metadata": {
            "tags": []
          },
          "execution_count": 12
        },
        {
          "output_type": "display_data",
          "data": {
            "image/png": "[encoded data removed]",
            "text/plain": [
              "<Figure size 432x288 with 1 Axes>"
            ]
          },
          "metadata": {
            "tags": [],
            "needs_background": "light"
          }
        }
      ]
    },
    {
      "cell_type": "code",
      "metadata": {
        "colab": {
          "base_uri": "https://localhost:8080/",
          "height": 298
        },
        "id": "BVe5rmi6KZ8U",
        "outputId": "5b7553ae-0cef-41c6-caf3-da12593db096"
      },
      "source": [
        "sns.histplot(happy_df['Social_Support'],kde=True)"
      ],
      "execution_count": null,
      "outputs": [
        {
          "output_type": "execute_result",
          "data": {
            "text/plain": [
              "<matplotlib.axes._subplots.AxesSubplot at 0x7ff3d51cfb50>"
            ]
          },
          "metadata": {
            "tags": []
          },
          "execution_count": 14
        },
        {
          "output_type": "display_data",
          "data": {
            "image/png": "[encoded data removed]",
            "text/plain": [
              "<Figure size 432x288 with 1 Axes>"
            ]
          },
          "metadata": {
            "tags": [],
            "needs_background": "light"
          }
        }
      ]
    },
    {
      "cell_type": "code",
      "metadata": {
        "colab": {
          "base_uri": "https://localhost:8080/",
          "height": 297
        },
        "id": "qJHRkQlksscs",
        "outputId": "4453527c-ffb3-425a-f4bb-81a7a9e55397"
      },
      "source": [
        "sns.histplot(happy_df['Generosity'],kde=True)"
      ],
      "execution_count": null,
      "outputs": [
        {
          "output_type": "execute_result",
          "data": {
            "text/plain": [
              "<matplotlib.axes._subplots.AxesSubplot at 0x7fcfd263fa90>"
            ]
          },
          "metadata": {
            "tags": []
          },
          "execution_count": 13
        },
        {
          "output_type": "display_data",
          "data": {
            "image/png": "[encoded data removed]",
            "text/plain": [
              "<Figure size 432x288 with 1 Axes>"
            ]
          },
          "metadata": {
            "tags": [],
            "needs_background": "light"
          }
        }
      ]
    },
    {
      "cell_type": "code",
      "metadata": {
        "colab": {
          "base_uri": "https://localhost:8080/",
          "height": 298
        },
        "id": "6DP9CXdm_4XD",
        "outputId": "cfcf67fb-c471-442f-86dc-2c175dd60667"
      },
      "source": [
        "sns.histplot(happy_df['Life_Expectancy'],kde=True)"
      ],
      "execution_count": null,
      "outputs": [
        {
          "output_type": "execute_result",
          "data": {
            "text/plain": [
              "<matplotlib.axes._subplots.AxesSubplot at 0x7ff3d4c7d550>"
            ]
          },
          "metadata": {
            "tags": []
          },
          "execution_count": 15
        },
        {
          "output_type": "display_data",
          "data": {
            "image/png": "[encoded data removed]",
            "text/plain": [
              "<Figure size 432x288 with 1 Axes>"
            ]
          },
          "metadata": {
            "tags": [],
            "needs_background": "light"
          }
        }
      ]
    },
    {
      "cell_type": "code",
      "metadata": {
        "colab": {
          "base_uri": "https://localhost:8080/",
          "height": 298
        },
        "id": "nq3MJ5kPAKB9",
        "outputId": "7c10f50b-b9bb-4487-f6f9-2b1356a77829"
      },
      "source": [
        "sns.histplot(happy_df['Freedom_Choice'],kde=True)"
      ],
      "execution_count": null,
      "outputs": [
        {
          "output_type": "execute_result",
          "data": {
            "text/plain": [
              "<matplotlib.axes._subplots.AxesSubplot at 0x7ff3d4bf00d0>"
            ]
          },
          "metadata": {
            "tags": []
          },
          "execution_count": 16
        },
        {
          "output_type": "display_data",
          "data": {
            "image/png": "[encoded data removed]",
            "text/plain": [
              "<Figure size 432x288 with 1 Axes>"
            ]
          },
          "metadata": {
            "tags": [],
            "needs_background": "light"
          }
        }
      ]
    },
    {
      "cell_type": "code",
      "metadata": {
        "colab": {
          "base_uri": "https://localhost:8080/",
          "height": 297
        },
        "id": "_bWWED_1AYiL",
        "outputId": "4595da80-9a0c-4615-bc05-32d6acc1bb0b"
      },
      "source": [
        "sns.histplot(happy_df['Corruption'],kde=True)"
      ],
      "execution_count": null,
      "outputs": [
        {
          "output_type": "execute_result",
          "data": {
            "text/plain": [
              "<matplotlib.axes._subplots.AxesSubplot at 0x7ff3d4b9d910>"
            ]
          },
          "metadata": {
            "tags": []
          },
          "execution_count": 17
        },
        {
          "output_type": "display_data",
          "data": {
            "image/png": "[encoded data removed]",
            "text/plain": [
              "<Figure size 432x288 with 1 Axes>"
            ]
          },
          "metadata": {
            "tags": [],
            "needs_background": "light"
          }
        }
      ]
    },
    {
      "cell_type": "markdown",
      "metadata": {
        "id": "yRWyE3KHBIWy"
      },
      "source": [
        "**Find outlier**"
      ]
    },
    {
      "cell_type": "code",
      "metadata": {
        "colab": {
          "base_uri": "https://localhost:8080/",
          "height": 285
        },
        "id": "_Wmmjf8dBFSy",
        "outputId": "9e662e22-114c-45db-9f0f-ba88142afd6c"
      },
      "source": [
        "happy_df.boxplot(column=['Happiness'])"
      ],
      "execution_count": null,
      "outputs": [
        {
          "output_type": "execute_result",
          "data": {
            "text/plain": [
              "<matplotlib.axes._subplots.AxesSubplot at 0x7ff3d51dd410>"
            ]
          },
          "metadata": {
            "tags": []
          },
          "execution_count": 18
        },
        {
          "output_type": "display_data",
          "data": {
            "image/png": "[encoded data removed]",
            "text/plain": [
              "<Figure size 432x288 with 1 Axes>"
            ]
          },
          "metadata": {
            "tags": [],
            "needs_background": "light"
          }
        }
      ]
    },
    {
      "cell_type": "code",
      "metadata": {
        "colab": {
          "base_uri": "https://localhost:8080/",
          "height": 284
        },
        "id": "SwjQIdJ5B6ms",
        "outputId": "6b07ddda-c4e3-473c-ff97-2d0cef0be8f4"
      },
      "source": [
        "happy_df.boxplot(column=['GDP_Capita'])"
      ],
      "execution_count": null,
      "outputs": [
        {
          "output_type": "execute_result",
          "data": {
            "text/plain": [
              "<matplotlib.axes._subplots.AxesSubplot at 0x7ff3d4bea8d0>"
            ]
          },
          "metadata": {
            "tags": []
          },
          "execution_count": 19
        },
        {
          "output_type": "display_data",
          "data": {
            "image/png": "[encoded data removed]",
            "text/plain": [
              "<Figure size 432x288 with 1 Axes>"
            ]
          },
          "metadata": {
            "tags": [],
            "needs_background": "light"
          }
        }
      ]
    },
    {
      "cell_type": "code",
      "metadata": {
        "colab": {
          "base_uri": "https://localhost:8080/",
          "height": 286
        },
        "id": "jud-Dk55Kkig",
        "outputId": "d033bfa6-ea1d-43c8-b222-1385090d5ec9"
      },
      "source": [
        "happy_df.boxplot(column=['Social_Support'])"
      ],
      "execution_count": null,
      "outputs": [
        {
          "output_type": "execute_result",
          "data": {
            "text/plain": [
              "<matplotlib.axes._subplots.AxesSubplot at 0x7ff3d49917d0>"
            ]
          },
          "metadata": {
            "tags": []
          },
          "execution_count": 20
        },
        {
          "output_type": "display_data",
          "data": {
            "image/png": "[encoded data removed]",
            "text/plain": [
              "<Figure size 432x288 with 1 Axes>"
            ]
          },
          "metadata": {
            "tags": [],
            "needs_background": "light"
          }
        }
      ]
    },
    {
      "cell_type": "code",
      "metadata": {
        "colab": {
          "base_uri": "https://localhost:8080/",
          "height": 286
        },
        "id": "buFZrGQZs2A3",
        "outputId": "5dd986a1-408d-42c7-942f-79898f22f6fc"
      },
      "source": [
        "happy_df.boxplot(column=['Generosity'])"
      ],
      "execution_count": null,
      "outputs": [
        {
          "output_type": "execute_result",
          "data": {
            "text/plain": [
              "<matplotlib.axes._subplots.AxesSubplot at 0x7fcfd250a450>"
            ]
          },
          "metadata": {
            "tags": []
          },
          "execution_count": 14
        },
        {
          "output_type": "display_data",
          "data": {
            "image/png": "[encoded data removed]",
            "text/plain": [
              "<Figure size 432x288 with 1 Axes>"
            ]
          },
          "metadata": {
            "tags": [],
            "needs_background": "light"
          }
        }
      ]
    },
    {
      "cell_type": "code",
      "metadata": {
        "colab": {
          "base_uri": "https://localhost:8080/",
          "height": 284
        },
        "id": "TDSezg-bCGup",
        "outputId": "963e12d9-869c-4086-fc5a-c98e30705c33"
      },
      "source": [
        "happy_df.boxplot(column=['Life_Expectancy'])"
      ],
      "execution_count": null,
      "outputs": [
        {
          "output_type": "execute_result",
          "data": {
            "text/plain": [
              "<matplotlib.axes._subplots.AxesSubplot at 0x7fcfd24f7410>"
            ]
          },
          "metadata": {
            "tags": []
          },
          "execution_count": 15
        },
        {
          "output_type": "display_data",
          "data": {
            "image/png": "[encoded data removed]",
            "text/plain": [
              "<Figure size 432x288 with 1 Axes>"
            ]
          },
          "metadata": {
            "tags": [],
            "needs_background": "light"
          }
        }
      ]
    },
    {
      "cell_type": "code",
      "metadata": {
        "colab": {
          "base_uri": "https://localhost:8080/",
          "height": 287
        },
        "id": "XqRbcRtDCglD",
        "outputId": "a3268d87-0c1b-4cb1-e982-b33c85736370"
      },
      "source": [
        "happy_df.boxplot(column=['Freedom_Choice'])"
      ],
      "execution_count": null,
      "outputs": [
        {
          "output_type": "execute_result",
          "data": {
            "text/plain": [
              "<matplotlib.axes._subplots.AxesSubplot at 0x7fcfd2473590>"
            ]
          },
          "metadata": {
            "tags": []
          },
          "execution_count": 16
        },
        {
          "output_type": "display_data",
          "data": {
            "image/png": "[encoded data removed]",
            "text/plain": [
              "<Figure size 432x288 with 1 Axes>"
            ]
          },
          "metadata": {
            "tags": [],
            "needs_background": "light"
          }
        }
      ]
    },
    {
      "cell_type": "code",
      "metadata": {
        "colab": {
          "base_uri": "https://localhost:8080/",
          "height": 283
        },
        "id": "f_11Q8xaKVrp",
        "outputId": "a6f15d9f-b5c0-474d-9054-9db73caa3ef5"
      },
      "source": [
        "happy_df.boxplot(column=['Corruption'])"
      ],
      "execution_count": null,
      "outputs": [
        {
          "output_type": "execute_result",
          "data": {
            "text/plain": [
              "<matplotlib.axes._subplots.AxesSubplot at 0x7fcfd23ddb50>"
            ]
          },
          "metadata": {
            "tags": []
          },
          "execution_count": 17
        },
        {
          "output_type": "display_data",
          "data": {
            "image/png": "[encoded data removed]",
            "text/plain": [
              "<Figure size 432x288 with 1 Axes>"
            ]
          },
          "metadata": {
            "tags": [],
            "needs_background": "light"
          }
        }
      ]
    },
    {
      "cell_type": "markdown",
      "metadata": {
        "id": "l_JWzbamY6Tq"
      },
      "source": [
        "Box plot shows fields like Perception of Corruption, Freedom to make Life Choices and Social Support fields have some outliers.\n",
        "\n",
        "Generally decision to keep or remove outliers is based on domain knowledge. Here in this case I will use z-score method to remove outliers.\n",
        "\n",
        "We find the z-score for each of the data point in the dataset and if the z-score is greater than 3 than we can classify that point as an outlier. Any point outside of 3 standard deviations would be an outlier."
      ]
    },
    {
      "cell_type": "code",
      "metadata": {
        "id": "OmXY8kuSY2km"
      },
      "source": [
        "from scipy import stats\n",
        "z_corruption=np.abs(stats.zscore(happy_df.Corruption))\n",
        "happy_df = happy_df[z_corruption <3]\n",
        "z_freedom=np.abs(stats.zscore(happy_df.Freedom_Choice))\n",
        "happy_df = happy_df[z_freedom <3]\n",
        "z_social_support=np.abs(stats.zscore(happy_df.Social_Support))\n",
        "happy_df = happy_df[z_social_support <3]\n",
        "z_social_generosity=np.abs(stats.zscore(happy_df.Generosity))\n",
        "happy_df = happy_df[z_social_generosity <3]"
      ],
      "execution_count": null,
      "outputs": []
    },
    {
      "cell_type": "code",
      "metadata": {
        "colab": {
          "base_uri": "https://localhost:8080/"
        },
        "id": "wdOSxIgAcaMf",
        "outputId": "4c593736-dd3b-489f-e4d9-ec45cd784f7a"
      },
      "source": [
        "happy_df.shape"
      ],
      "execution_count": null,
      "outputs": [
        {
          "output_type": "execute_result",
          "data": {
            "text/plain": [
              "(145, 9)"
            ]
          },
          "metadata": {
            "tags": []
          },
          "execution_count": 19
        }
      ]
    },
    {
      "cell_type": "code",
      "metadata": {
        "colab": {
          "base_uri": "https://localhost:8080/",
          "height": 297
        },
        "id": "S7NJWiVStdVb",
        "outputId": "e8566172-d093-4d7c-9368-df539a2818af"
      },
      "source": [
        "happy_df.describe()"
      ],
      "execution_count": null,
      "outputs": [
        {
          "output_type": "execute_result",
          "data": {
            "text/html": [
              "<div>\n",
              "<style scoped>\n",
              "    .dataframe tbody tr th:only-of-type {\n",
              "        vertical-align: middle;\n",
              "    }\n",
              "\n",
              "    .dataframe tbody tr th {\n",
              "        vertical-align: top;\n",
              "    }\n",
              "\n",
              "    .dataframe thead th {\n",
              "        text-align: right;\n",
              "    }\n",
              "</style>\n",
              "<table border=\"1\" class=\"dataframe\">\n",
              "  <thead>\n",
              "    <tr style=\"text-align: right;\">\n",
              "      <th></th>\n",
              "      <th>Happiness</th>\n",
              "      <th>GDP_Capita</th>\n",
              "      <th>Social_Support</th>\n",
              "      <th>Generosity</th>\n",
              "      <th>Life_Expectancy</th>\n",
              "      <th>Freedom_Choice</th>\n",
              "      <th>Corruption</th>\n",
              "    </tr>\n",
              "  </thead>\n",
              "  <tbody>\n",
              "    <tr>\n",
              "      <th>count</th>\n",
              "      <td>145.000000</td>\n",
              "      <td>145.000000</td>\n",
              "      <td>145.000000</td>\n",
              "      <td>145.000000</td>\n",
              "      <td>145.000000</td>\n",
              "      <td>145.000000</td>\n",
              "      <td>145.000000</td>\n",
              "    </tr>\n",
              "    <tr>\n",
              "      <th>mean</th>\n",
              "      <td>5.493970</td>\n",
              "      <td>9.308247</td>\n",
              "      <td>0.813726</td>\n",
              "      <td>-0.023360</td>\n",
              "      <td>64.545184</td>\n",
              "      <td>0.781539</td>\n",
              "      <td>0.745953</td>\n",
              "    </tr>\n",
              "    <tr>\n",
              "      <th>std</th>\n",
              "      <td>1.049121</td>\n",
              "      <td>1.170490</td>\n",
              "      <td>0.110526</td>\n",
              "      <td>0.140535</td>\n",
              "      <td>6.842001</td>\n",
              "      <td>0.112679</td>\n",
              "      <td>0.150189</td>\n",
              "    </tr>\n",
              "    <tr>\n",
              "      <th>min</th>\n",
              "      <td>2.816600</td>\n",
              "      <td>6.492642</td>\n",
              "      <td>0.468671</td>\n",
              "      <td>-0.300907</td>\n",
              "      <td>48.003624</td>\n",
              "      <td>0.451314</td>\n",
              "      <td>0.221139</td>\n",
              "    </tr>\n",
              "    <tr>\n",
              "      <th>25%</th>\n",
              "      <td>4.750600</td>\n",
              "      <td>8.389223</td>\n",
              "      <td>0.737502</td>\n",
              "      <td>-0.130642</td>\n",
              "      <td>59.105427</td>\n",
              "      <td>0.714839</td>\n",
              "      <td>0.690718</td>\n",
              "    </tr>\n",
              "    <tr>\n",
              "      <th>50%</th>\n",
              "      <td>5.535500</td>\n",
              "      <td>9.500369</td>\n",
              "      <td>0.831075</td>\n",
              "      <td>-0.042309</td>\n",
              "      <td>66.404343</td>\n",
              "      <td>0.795294</td>\n",
              "      <td>0.783237</td>\n",
              "    </tr>\n",
              "    <tr>\n",
              "      <th>75%</th>\n",
              "      <td>6.227300</td>\n",
              "      <td>10.263742</td>\n",
              "      <td>0.903151</td>\n",
              "      <td>0.085429</td>\n",
              "      <td>69.002548</td>\n",
              "      <td>0.870603</td>\n",
              "      <td>0.847965</td>\n",
              "    </tr>\n",
              "    <tr>\n",
              "      <th>max</th>\n",
              "      <td>7.559900</td>\n",
              "      <td>11.450681</td>\n",
              "      <td>0.974670</td>\n",
              "      <td>0.400535</td>\n",
              "      <td>76.771706</td>\n",
              "      <td>0.974998</td>\n",
              "      <td>0.935585</td>\n",
              "    </tr>\n",
              "  </tbody>\n",
              "</table>\n",
              "</div>"
            ],
            "text/plain": [
              "        Happiness  GDP_Capita  ...  Freedom_Choice  Corruption\n",
              "count  145.000000  145.000000  ...      145.000000  145.000000\n",
              "mean     5.493970    9.308247  ...        0.781539    0.745953\n",
              "std      1.049121    1.170490  ...        0.112679    0.150189\n",
              "min      2.816600    6.492642  ...        0.451314    0.221139\n",
              "25%      4.750600    8.389223  ...        0.714839    0.690718\n",
              "50%      5.535500    9.500369  ...        0.795294    0.783237\n",
              "75%      6.227300   10.263742  ...        0.870603    0.847965\n",
              "max      7.559900   11.450681  ...        0.974998    0.935585\n",
              "\n",
              "[8 rows x 7 columns]"
            ]
          },
          "metadata": {
            "tags": []
          },
          "execution_count": 21
        }
      ]
    },
    {
      "cell_type": "markdown",
      "metadata": {
        "id": "h1yGZ_H-Oqp5"
      },
      "source": [
        "To find countries on extereme end of happiness score, I will filter out countries having happiness less than 1st Quartile (4.75) and countries having happines more that 3rd Quartile (6.22)"
      ]
    },
    {
      "cell_type": "code",
      "metadata": {
        "colab": {
          "base_uri": "https://localhost:8080/",
          "height": 359
        },
        "id": "cF9FAHj7Olbl",
        "outputId": "6e3364e2-35bb-4922-9d6a-a250effc67ab"
      },
      "source": [
        "low_happy_df = happy_df[happy_df['Happiness'] < 4.75].sort_values('Happiness')\n",
        "low_happy_df.head(10)"
      ],
      "execution_count": null,
      "outputs": [
        {
          "output_type": "execute_result",
          "data": {
            "text/html": [
              "<div>\n",
              "<style scoped>\n",
              "    .dataframe tbody tr th:only-of-type {\n",
              "        vertical-align: middle;\n",
              "    }\n",
              "\n",
              "    .dataframe tbody tr th {\n",
              "        vertical-align: top;\n",
              "    }\n",
              "\n",
              "    .dataframe thead th {\n",
              "        text-align: right;\n",
              "    }\n",
              "</style>\n",
              "<table border=\"1\" class=\"dataframe\">\n",
              "  <thead>\n",
              "    <tr style=\"text-align: right;\">\n",
              "      <th></th>\n",
              "      <th>Country</th>\n",
              "      <th>Region</th>\n",
              "      <th>Happiness</th>\n",
              "      <th>GDP_Capita</th>\n",
              "      <th>Social_Support</th>\n",
              "      <th>Generosity</th>\n",
              "      <th>Life_Expectancy</th>\n",
              "      <th>Freedom_Choice</th>\n",
              "      <th>Corruption</th>\n",
              "    </tr>\n",
              "  </thead>\n",
              "  <tbody>\n",
              "    <tr>\n",
              "      <th>151</th>\n",
              "      <td>South Sudan</td>\n",
              "      <td>Sub-Saharan Africa</td>\n",
              "      <td>2.8166</td>\n",
              "      <td>7.425360</td>\n",
              "      <td>0.553707</td>\n",
              "      <td>0.016519</td>\n",
              "      <td>51.000000</td>\n",
              "      <td>0.451314</td>\n",
              "      <td>0.763417</td>\n",
              "    </tr>\n",
              "    <tr>\n",
              "      <th>150</th>\n",
              "      <td>Zimbabwe</td>\n",
              "      <td>Sub-Saharan Africa</td>\n",
              "      <td>3.2992</td>\n",
              "      <td>7.865712</td>\n",
              "      <td>0.763093</td>\n",
              "      <td>-0.072064</td>\n",
              "      <td>55.617260</td>\n",
              "      <td>0.711458</td>\n",
              "      <td>0.810237</td>\n",
              "    </tr>\n",
              "    <tr>\n",
              "      <th>147</th>\n",
              "      <td>Tanzania</td>\n",
              "      <td>Sub-Saharan Africa</td>\n",
              "      <td>3.4762</td>\n",
              "      <td>7.967665</td>\n",
              "      <td>0.688933</td>\n",
              "      <td>0.109669</td>\n",
              "      <td>57.496075</td>\n",
              "      <td>0.821540</td>\n",
              "      <td>0.619799</td>\n",
              "    </tr>\n",
              "    <tr>\n",
              "      <th>146</th>\n",
              "      <td>Botswana</td>\n",
              "      <td>Sub-Saharan Africa</td>\n",
              "      <td>3.4789</td>\n",
              "      <td>9.711204</td>\n",
              "      <td>0.779122</td>\n",
              "      <td>-0.250394</td>\n",
              "      <td>58.924454</td>\n",
              "      <td>0.821328</td>\n",
              "      <td>0.777931</td>\n",
              "    </tr>\n",
              "    <tr>\n",
              "      <th>145</th>\n",
              "      <td>Yemen</td>\n",
              "      <td>Middle East and North Africa</td>\n",
              "      <td>3.5274</td>\n",
              "      <td>7.759683</td>\n",
              "      <td>0.817981</td>\n",
              "      <td>-0.157735</td>\n",
              "      <td>56.727283</td>\n",
              "      <td>0.599920</td>\n",
              "      <td>0.800288</td>\n",
              "    </tr>\n",
              "    <tr>\n",
              "      <th>144</th>\n",
              "      <td>Malawi</td>\n",
              "      <td>Sub-Saharan Africa</td>\n",
              "      <td>3.5380</td>\n",
              "      <td>7.062226</td>\n",
              "      <td>0.544007</td>\n",
              "      <td>0.021433</td>\n",
              "      <td>57.592888</td>\n",
              "      <td>0.803223</td>\n",
              "      <td>0.731701</td>\n",
              "    </tr>\n",
              "    <tr>\n",
              "      <th>143</th>\n",
              "      <td>India</td>\n",
              "      <td>South Asia</td>\n",
              "      <td>3.5733</td>\n",
              "      <td>8.849824</td>\n",
              "      <td>0.592201</td>\n",
              "      <td>0.057552</td>\n",
              "      <td>60.215187</td>\n",
              "      <td>0.881445</td>\n",
              "      <td>0.772043</td>\n",
              "    </tr>\n",
              "    <tr>\n",
              "      <th>142</th>\n",
              "      <td>Lesotho</td>\n",
              "      <td>Sub-Saharan Africa</td>\n",
              "      <td>3.6528</td>\n",
              "      <td>7.960488</td>\n",
              "      <td>0.780496</td>\n",
              "      <td>-0.145732</td>\n",
              "      <td>48.003624</td>\n",
              "      <td>0.738126</td>\n",
              "      <td>0.857392</td>\n",
              "    </tr>\n",
              "    <tr>\n",
              "      <th>141</th>\n",
              "      <td>Haiti</td>\n",
              "      <td>Latin America and Caribbean</td>\n",
              "      <td>3.7208</td>\n",
              "      <td>7.411329</td>\n",
              "      <td>0.593248</td>\n",
              "      <td>0.400535</td>\n",
              "      <td>55.598625</td>\n",
              "      <td>0.537825</td>\n",
              "      <td>0.684767</td>\n",
              "    </tr>\n",
              "    <tr>\n",
              "      <th>140</th>\n",
              "      <td>Zambia</td>\n",
              "      <td>Sub-Saharan Africa</td>\n",
              "      <td>3.7594</td>\n",
              "      <td>8.224720</td>\n",
              "      <td>0.698824</td>\n",
              "      <td>0.078037</td>\n",
              "      <td>55.299377</td>\n",
              "      <td>0.806500</td>\n",
              "      <td>0.801290</td>\n",
              "    </tr>\n",
              "  </tbody>\n",
              "</table>\n",
              "</div>"
            ],
            "text/plain": [
              "         Country                        Region  ...  Freedom_Choice  Corruption\n",
              "151  South Sudan            Sub-Saharan Africa  ...        0.451314    0.763417\n",
              "150     Zimbabwe            Sub-Saharan Africa  ...        0.711458    0.810237\n",
              "147     Tanzania            Sub-Saharan Africa  ...        0.821540    0.619799\n",
              "146     Botswana            Sub-Saharan Africa  ...        0.821328    0.777931\n",
              "145        Yemen  Middle East and North Africa  ...        0.599920    0.800288\n",
              "144       Malawi            Sub-Saharan Africa  ...        0.803223    0.731701\n",
              "143        India                    South Asia  ...        0.881445    0.772043\n",
              "142      Lesotho            Sub-Saharan Africa  ...        0.738126    0.857392\n",
              "141        Haiti   Latin America and Caribbean  ...        0.537825    0.684767\n",
              "140       Zambia            Sub-Saharan Africa  ...        0.806500    0.801290\n",
              "\n",
              "[10 rows x 9 columns]"
            ]
          },
          "metadata": {
            "tags": []
          },
          "execution_count": 22
        }
      ]
    },
    {
      "cell_type": "code",
      "metadata": {
        "colab": {
          "base_uri": "https://localhost:8080/",
          "height": 347
        },
        "id": "VHzvyiarO3-o",
        "outputId": "1feb93cc-7720-4b1d-ef38-33873c28ce51"
      },
      "source": [
        "low_happy_df.head(10).plot.bar(x='Country', y='Happiness', rot=60, color='red')"
      ],
      "execution_count": null,
      "outputs": [
        {
          "output_type": "execute_result",
          "data": {
            "text/plain": [
              "<matplotlib.axes._subplots.AxesSubplot at 0x7fcfd214da50>"
            ]
          },
          "metadata": {
            "tags": []
          },
          "execution_count": 23
        },
        {
          "output_type": "display_data",
          "data": {
            "image/png": "[encoded data removed]",
            "text/plain": [
              "<Figure size 432x288 with 1 Axes>"
            ]
          },
          "metadata": {
            "tags": [],
            "needs_background": "light"
          }
        }
      ]
    },
    {
      "cell_type": "code",
      "metadata": {
        "colab": {
          "base_uri": "https://localhost:8080/",
          "height": 359
        },
        "id": "BYFov_z6UMET",
        "outputId": "248ee730-2ff2-40a5-aa13-5d194a4ebdac"
      },
      "source": [
        "high_happy_df = happy_df[happy_df['Happiness'] > 6.22].sort_values('Happiness',ascending=False)\n",
        "high_happy_df.head(10)"
      ],
      "execution_count": null,
      "outputs": [
        {
          "output_type": "execute_result",
          "data": {
            "text/html": [
              "<div>\n",
              "<style scoped>\n",
              "    .dataframe tbody tr th:only-of-type {\n",
              "        vertical-align: middle;\n",
              "    }\n",
              "\n",
              "    .dataframe tbody tr th {\n",
              "        vertical-align: top;\n",
              "    }\n",
              "\n",
              "    .dataframe thead th {\n",
              "        text-align: right;\n",
              "    }\n",
              "</style>\n",
              "<table border=\"1\" class=\"dataframe\">\n",
              "  <thead>\n",
              "    <tr style=\"text-align: right;\">\n",
              "      <th></th>\n",
              "      <th>Country</th>\n",
              "      <th>Region</th>\n",
              "      <th>Happiness</th>\n",
              "      <th>GDP_Capita</th>\n",
              "      <th>Social_Support</th>\n",
              "      <th>Generosity</th>\n",
              "      <th>Life_Expectancy</th>\n",
              "      <th>Freedom_Choice</th>\n",
              "      <th>Corruption</th>\n",
              "    </tr>\n",
              "  </thead>\n",
              "  <tbody>\n",
              "    <tr>\n",
              "      <th>2</th>\n",
              "      <td>Switzerland</td>\n",
              "      <td>Western Europe</td>\n",
              "      <td>7.5599</td>\n",
              "      <td>10.979933</td>\n",
              "      <td>0.942847</td>\n",
              "      <td>0.105911</td>\n",
              "      <td>74.102448</td>\n",
              "      <td>0.921337</td>\n",
              "      <td>0.303728</td>\n",
              "    </tr>\n",
              "    <tr>\n",
              "      <th>3</th>\n",
              "      <td>Iceland</td>\n",
              "      <td>Western Europe</td>\n",
              "      <td>7.5045</td>\n",
              "      <td>10.772559</td>\n",
              "      <td>0.974670</td>\n",
              "      <td>0.246944</td>\n",
              "      <td>73.000000</td>\n",
              "      <td>0.948892</td>\n",
              "      <td>0.711710</td>\n",
              "    </tr>\n",
              "    <tr>\n",
              "      <th>4</th>\n",
              "      <td>Norway</td>\n",
              "      <td>Western Europe</td>\n",
              "      <td>7.4880</td>\n",
              "      <td>11.087804</td>\n",
              "      <td>0.952487</td>\n",
              "      <td>0.134533</td>\n",
              "      <td>73.200783</td>\n",
              "      <td>0.955750</td>\n",
              "      <td>0.263218</td>\n",
              "    </tr>\n",
              "    <tr>\n",
              "      <th>5</th>\n",
              "      <td>Netherlands</td>\n",
              "      <td>Western Europe</td>\n",
              "      <td>7.4489</td>\n",
              "      <td>10.812712</td>\n",
              "      <td>0.939139</td>\n",
              "      <td>0.207612</td>\n",
              "      <td>72.300919</td>\n",
              "      <td>0.908548</td>\n",
              "      <td>0.364717</td>\n",
              "    </tr>\n",
              "    <tr>\n",
              "      <th>6</th>\n",
              "      <td>Sweden</td>\n",
              "      <td>Western Europe</td>\n",
              "      <td>7.3535</td>\n",
              "      <td>10.758794</td>\n",
              "      <td>0.926311</td>\n",
              "      <td>0.111615</td>\n",
              "      <td>72.600769</td>\n",
              "      <td>0.939144</td>\n",
              "      <td>0.250880</td>\n",
              "    </tr>\n",
              "    <tr>\n",
              "      <th>7</th>\n",
              "      <td>New Zealand</td>\n",
              "      <td>North America and ANZ</td>\n",
              "      <td>7.2996</td>\n",
              "      <td>10.500943</td>\n",
              "      <td>0.949119</td>\n",
              "      <td>0.191598</td>\n",
              "      <td>73.202629</td>\n",
              "      <td>0.936217</td>\n",
              "      <td>0.221139</td>\n",
              "    </tr>\n",
              "    <tr>\n",
              "      <th>8</th>\n",
              "      <td>Austria</td>\n",
              "      <td>Western Europe</td>\n",
              "      <td>7.2942</td>\n",
              "      <td>10.742824</td>\n",
              "      <td>0.928046</td>\n",
              "      <td>0.085429</td>\n",
              "      <td>73.002502</td>\n",
              "      <td>0.899989</td>\n",
              "      <td>0.499955</td>\n",
              "    </tr>\n",
              "    <tr>\n",
              "      <th>9</th>\n",
              "      <td>Luxembourg</td>\n",
              "      <td>Western Europe</td>\n",
              "      <td>7.2375</td>\n",
              "      <td>11.450681</td>\n",
              "      <td>0.906912</td>\n",
              "      <td>-0.004621</td>\n",
              "      <td>72.599998</td>\n",
              "      <td>0.905636</td>\n",
              "      <td>0.367084</td>\n",
              "    </tr>\n",
              "    <tr>\n",
              "      <th>10</th>\n",
              "      <td>Canada</td>\n",
              "      <td>North America and ANZ</td>\n",
              "      <td>7.2321</td>\n",
              "      <td>10.692369</td>\n",
              "      <td>0.927177</td>\n",
              "      <td>0.124771</td>\n",
              "      <td>73.601601</td>\n",
              "      <td>0.933913</td>\n",
              "      <td>0.390843</td>\n",
              "    </tr>\n",
              "    <tr>\n",
              "      <th>11</th>\n",
              "      <td>Australia</td>\n",
              "      <td>North America and ANZ</td>\n",
              "      <td>7.2228</td>\n",
              "      <td>10.720596</td>\n",
              "      <td>0.944855</td>\n",
              "      <td>0.190460</td>\n",
              "      <td>73.604538</td>\n",
              "      <td>0.915432</td>\n",
              "      <td>0.415169</td>\n",
              "    </tr>\n",
              "  </tbody>\n",
              "</table>\n",
              "</div>"
            ],
            "text/plain": [
              "        Country                 Region  ...  Freedom_Choice  Corruption\n",
              "2   Switzerland         Western Europe  ...        0.921337    0.303728\n",
              "3       Iceland         Western Europe  ...        0.948892    0.711710\n",
              "4        Norway         Western Europe  ...        0.955750    0.263218\n",
              "5   Netherlands         Western Europe  ...        0.908548    0.364717\n",
              "6        Sweden         Western Europe  ...        0.939144    0.250880\n",
              "7   New Zealand  North America and ANZ  ...        0.936217    0.221139\n",
              "8       Austria         Western Europe  ...        0.899989    0.499955\n",
              "9    Luxembourg         Western Europe  ...        0.905636    0.367084\n",
              "10       Canada  North America and ANZ  ...        0.933913    0.390843\n",
              "11    Australia  North America and ANZ  ...        0.915432    0.415169\n",
              "\n",
              "[10 rows x 9 columns]"
            ]
          },
          "metadata": {
            "tags": []
          },
          "execution_count": 24
        }
      ]
    },
    {
      "cell_type": "code",
      "metadata": {
        "colab": {
          "base_uri": "https://localhost:8080/",
          "height": 349
        },
        "id": "oPlsR4M4PMui",
        "outputId": "f841ff65-13a6-4e87-9852-861b1a3e2427"
      },
      "source": [
        "high_happy_df.head(10).plot.bar(x='Country', y='Happiness', rot=60, color='green')"
      ],
      "execution_count": null,
      "outputs": [
        {
          "output_type": "execute_result",
          "data": {
            "text/plain": [
              "<matplotlib.axes._subplots.AxesSubplot at 0x7fcfd20f7d90>"
            ]
          },
          "metadata": {
            "tags": []
          },
          "execution_count": 25
        },
        {
          "output_type": "display_data",
          "data": {
            "image/png": "[encoded data removed]",
            "text/plain": [
              "<Figure size 432x288 with 1 Axes>"
            ]
          },
          "metadata": {
            "tags": [],
            "needs_background": "light"
          }
        }
      ]
    },
    {
      "cell_type": "markdown",
      "metadata": {
        "id": "Uu3q4yr7PxBN"
      },
      "source": [
        "One interesting observation from above analysis is, countries from Western Europe occurs much frequenst in high happiness score. Is Western Europe happies region of the world?\n",
        "\n",
        "Lets see how each region fares.\n",
        "\n",
        "First we will find out how many contires from each region particiapted in survey?\n"
      ]
    },
    {
      "cell_type": "code",
      "metadata": {
        "colab": {
          "base_uri": "https://localhost:8080/"
        },
        "id": "vZFsyt5bTID2",
        "outputId": "7cb236b5-cfaa-470f-9eeb-ba8fc8f49e77"
      },
      "source": [
        "happy_df['Region'].value_counts()"
      ],
      "execution_count": null,
      "outputs": [
        {
          "output_type": "execute_result",
          "data": {
            "text/plain": [
              "Sub-Saharan Africa                    37\n",
              "Latin America and Caribbean           21\n",
              "Western Europe                        19\n",
              "Central and Eastern Europe            17\n",
              "Middle East and North Africa          17\n",
              "Commonwealth of Independent States    12\n",
              "Southeast Asia                         6\n",
              "South Asia                             6\n",
              "East Asia                              6\n",
              "North America and ANZ                  4\n",
              "Name: Region, dtype: int64"
            ]
          },
          "metadata": {
            "tags": []
          },
          "execution_count": 26
        }
      ]
    },
    {
      "cell_type": "markdown",
      "metadata": {
        "id": "5hKNU0aIXPCQ"
      },
      "source": [
        "How many counties from each region scored higher happiness score than 3rd quartile?"
      ]
    },
    {
      "cell_type": "code",
      "metadata": {
        "colab": {
          "base_uri": "https://localhost:8080/"
        },
        "id": "YRsV4qt-Tk9M",
        "outputId": "746e6ddb-a17c-40e2-b30a-59ba5d3bae89"
      },
      "source": [
        "high_happy_df['Region'].value_counts()"
      ],
      "execution_count": null,
      "outputs": [
        {
          "output_type": "execute_result",
          "data": {
            "text/plain": [
              "Western Europe                        15\n",
              "Latin America and Caribbean            8\n",
              "Central and Eastern Europe             4\n",
              "North America and ANZ                  4\n",
              "Middle East and North Africa           4\n",
              "Commonwealth of Independent States     1\n",
              "East Asia                              1\n",
              "Name: Region, dtype: int64"
            ]
          },
          "metadata": {
            "tags": []
          },
          "execution_count": 27
        }
      ]
    },
    {
      "cell_type": "markdown",
      "metadata": {
        "id": "e25IMqyvXY8j"
      },
      "source": [
        "Lets calculate the percentage of of countries scored higher per region."
      ]
    },
    {
      "cell_type": "code",
      "metadata": {
        "id": "46Gr3gOMUw0i"
      },
      "source": [
        "percentage_df = ((high_happy_df['Region'].value_counts()/happy_df['Region'].value_counts())*100).to_frame().reset_index()\n",
        "percentage_df.columns = ['Region', 'Percentage']\n",
        "percentage_df = percentage_df.sort_values('Percentage',ascending=False)"
      ],
      "execution_count": null,
      "outputs": []
    },
    {
      "cell_type": "code",
      "metadata": {
        "colab": {
          "base_uri": "https://localhost:8080/",
          "height": 359
        },
        "id": "ZgjD0VNBcqqj",
        "outputId": "583e8ae0-e7a6-4fcc-f400-ebc95fefb306"
      },
      "source": [
        "percentage_df.head(10)"
      ],
      "execution_count": null,
      "outputs": [
        {
          "output_type": "execute_result",
          "data": {
            "text/html": [
              "<div>\n",
              "<style scoped>\n",
              "    .dataframe tbody tr th:only-of-type {\n",
              "        vertical-align: middle;\n",
              "    }\n",
              "\n",
              "    .dataframe tbody tr th {\n",
              "        vertical-align: top;\n",
              "    }\n",
              "\n",
              "    .dataframe thead th {\n",
              "        text-align: right;\n",
              "    }\n",
              "</style>\n",
              "<table border=\"1\" class=\"dataframe\">\n",
              "  <thead>\n",
              "    <tr style=\"text-align: right;\">\n",
              "      <th></th>\n",
              "      <th>Region</th>\n",
              "      <th>Percentage</th>\n",
              "    </tr>\n",
              "  </thead>\n",
              "  <tbody>\n",
              "    <tr>\n",
              "      <th>5</th>\n",
              "      <td>North America and ANZ</td>\n",
              "      <td>100.000000</td>\n",
              "    </tr>\n",
              "    <tr>\n",
              "      <th>9</th>\n",
              "      <td>Western Europe</td>\n",
              "      <td>78.947368</td>\n",
              "    </tr>\n",
              "    <tr>\n",
              "      <th>3</th>\n",
              "      <td>Latin America and Caribbean</td>\n",
              "      <td>33.333333</td>\n",
              "    </tr>\n",
              "    <tr>\n",
              "      <th>0</th>\n",
              "      <td>Central and Eastern Europe</td>\n",
              "      <td>23.529412</td>\n",
              "    </tr>\n",
              "    <tr>\n",
              "      <th>4</th>\n",
              "      <td>Middle East and North Africa</td>\n",
              "      <td>17.647059</td>\n",
              "    </tr>\n",
              "    <tr>\n",
              "      <th>2</th>\n",
              "      <td>East Asia</td>\n",
              "      <td>16.666667</td>\n",
              "    </tr>\n",
              "    <tr>\n",
              "      <th>1</th>\n",
              "      <td>Commonwealth of Independent States</td>\n",
              "      <td>8.333333</td>\n",
              "    </tr>\n",
              "    <tr>\n",
              "      <th>6</th>\n",
              "      <td>South Asia</td>\n",
              "      <td>NaN</td>\n",
              "    </tr>\n",
              "    <tr>\n",
              "      <th>7</th>\n",
              "      <td>Southeast Asia</td>\n",
              "      <td>NaN</td>\n",
              "    </tr>\n",
              "    <tr>\n",
              "      <th>8</th>\n",
              "      <td>Sub-Saharan Africa</td>\n",
              "      <td>NaN</td>\n",
              "    </tr>\n",
              "  </tbody>\n",
              "</table>\n",
              "</div>"
            ],
            "text/plain": [
              "                               Region  Percentage\n",
              "5               North America and ANZ  100.000000\n",
              "9                      Western Europe   78.947368\n",
              "3         Latin America and Caribbean   33.333333\n",
              "0          Central and Eastern Europe   23.529412\n",
              "4        Middle East and North Africa   17.647059\n",
              "2                           East Asia   16.666667\n",
              "1  Commonwealth of Independent States    8.333333\n",
              "6                          South Asia         NaN\n",
              "7                      Southeast Asia         NaN\n",
              "8                  Sub-Saharan Africa         NaN"
            ]
          },
          "metadata": {
            "tags": []
          },
          "execution_count": 33
        }
      ]
    },
    {
      "cell_type": "code",
      "metadata": {
        "colab": {
          "base_uri": "https://localhost:8080/",
          "height": 265
        },
        "id": "nUJ0Lp9VfPSG",
        "outputId": "8bf7ef47-f14e-44bc-9e2f-85324ad0472e"
      },
      "source": [
        "ax = percentage_df.plot.barh(x='Region', y='Percentage')"
      ],
      "execution_count": null,
      "outputs": [
        {
          "output_type": "display_data",
          "data": {
            "image/png": "[encoded data removed]",
            "text/plain": [
              "<Figure size 432x288 with 1 Axes>"
            ]
          },
          "metadata": {
            "tags": [],
            "needs_background": "light"
          }
        }
      ]
    },
    {
      "cell_type": "markdown",
      "metadata": {
        "id": "8EEdmwtGXt80"
      },
      "source": [
        "Contary to belief, Western Europe scored around 79% much lower than North America-Australia-New Zealand which score 100%.\n",
        "\n",
        "However observation could be biased as both regions have different sampling. Western Europe region had 21 countries out of which 15 scored high. North America and ANZ had only 4 counties and all of them scored high."
      ]
    },
    {
      "cell_type": "code",
      "metadata": {
        "id": "AWUdtfFvkDfa"
      },
      "source": [
        "import thinkstats2\n",
        "import thinkplot\n",
        "\n",
        "# Rounding Life Expectancy to integer and calculating pmf\n",
        "low_pmf = thinkstats2.Pmf(low_happy_df.Life_Expectancy.round(0).astype(int), label='low')\n",
        "high_pmf = thinkstats2.Pmf(high_happy_df.Life_Expectancy.round(0).astype(int), label='high')"
      ],
      "execution_count": null,
      "outputs": []
    },
    {
      "cell_type": "code",
      "metadata": {
        "id": "o9pwh9zLpvoJ",
        "colab": {
          "base_uri": "https://localhost:8080/",
          "height": 392
        },
        "outputId": "83d1ee06-ba2e-4b95-e977-f5bcce62be87"
      },
      "source": [
        "width=0.45\n",
        "\n",
        "# In whole dataset min/max values of life expectancy are 45.20/76.80 respectively\n",
        "# Hence choosing axis values between 40 to 80\n",
        "axis = [40, 80, 0, 0.3]\n",
        "thinkplot.PrePlot(2, cols=2)\n",
        "thinkplot.Hist(low_pmf, align='right', width=width)\n",
        "thinkplot.Hist(high_pmf, align='left', width=width)\n",
        "thinkplot.Config(xlabel='Life Expectancy in Years', ylabel='PMF', axis=axis)\n",
        "\n",
        "thinkplot.PrePlot(2)\n",
        "thinkplot.SubPlot(2)\n",
        "thinkplot.Pmfs([low_pmf, high_pmf])\n",
        "thinkplot.Config(xlabel='Life Expectancy in Years', axis=axis)"
      ],
      "execution_count": null,
      "outputs": [
        {
          "output_type": "display_data",
          "data": {
            "image/png": "[encoded data removed]",
            "text/plain": [
              "<Figure size 864x432 with 2 Axes>"
            ]
          },
          "metadata": {
            "tags": [],
            "needs_background": "light"
          }
        }
      ]
    },
    {
      "cell_type": "markdown",
      "metadata": {
        "id": "QS9QjR3FEQSV"
      },
      "source": [
        "Looking at PMF, it seems that Life Expectancy is higher in countries with higher happiness score compared to lower scored happiness countries.\n",
        "\n",
        "**CDF** - Cumulative distribution functions\n",
        "\n"
      ]
    },
    {
      "cell_type": "code",
      "metadata": {
        "colab": {
          "base_uri": "https://localhost:8080/",
          "height": 279
        },
        "id": "cIOjkIdvM3I3",
        "outputId": "cf83ab61-02a9-4d65-e4e8-8f51aed98ea8"
      },
      "source": [
        "cdf = thinkstats2.Cdf(happy_df.Life_Expectancy.round(0).astype(int), label='Life Expectancy')\n",
        "thinkplot.Cdf(cdf)\n",
        "thinkplot.Config(xlabel='Life Expectancy', ylabel='CDF', loc='upper left')"
      ],
      "execution_count": null,
      "outputs": [
        {
          "output_type": "display_data",
          "data": {
            "image/png": "[encoded data removed]",
            "text/plain": [
              "<Figure size 432x288 with 1 Axes>"
            ]
          },
          "metadata": {
            "tags": [],
            "needs_background": "light"
          }
        }
      ]
    },
    {
      "cell_type": "markdown",
      "metadata": {
        "id": "OqkrPr7w3I8h"
      },
      "source": [
        "Only 5% of the countries have Life Expectancy below 50 years. 50% of the countries have Life Expectancy around 65 years."
      ]
    },
    {
      "cell_type": "markdown",
      "metadata": {
        "id": "0-o5aMeV-bfO"
      },
      "source": [
        "**Corelation Analysis**"
      ]
    },
    {
      "cell_type": "code",
      "metadata": {
        "colab": {
          "base_uri": "https://localhost:8080/",
          "height": 468
        },
        "id": "UGQQZhT7-ZHj",
        "outputId": "ae41d8ee-ff34-46f3-f448-595fdeabd1e7"
      },
      "source": [
        "columns_of_interest = ['Happiness','GDP_Capita','Social_Support','Generosity','Life_Expectancy','Freedom_Choice','Corruption']\n",
        "\n",
        "plt.figure(figsize=(8,6))\n",
        "#sns.heatmap(df.corr(), annot = True, fmt='.1g', cmap= 'coolwarm')\n",
        "sns.heatmap(happy_df[columns_of_interest].corr(), annot = True, fmt='.1g', cmap= 'coolwarm')"
      ],
      "execution_count": null,
      "outputs": [
        {
          "output_type": "execute_result",
          "data": {
            "text/plain": [
              "<matplotlib.axes._subplots.AxesSubplot at 0x7fcfd1d12390>"
            ]
          },
          "metadata": {
            "tags": []
          },
          "execution_count": 33
        },
        {
          "output_type": "display_data",
          "data": {
            "image/png": "[encoded data removed]",
            "text/plain": [
              "<Figure size 576x432 with 2 Axes>"
            ]
          },
          "metadata": {
            "tags": [],
            "needs_background": "light"
          }
        }
      ]
    },
    {
      "cell_type": "markdown",
      "metadata": {
        "id": "5Ruy7UbdZ09B"
      },
      "source": [
        "Looking at HeatMap, I can say that there is strong correlation between Happiness score and GDP per capita of country.\n",
        "\n",
        "Lets see scatterplt"
      ]
    },
    {
      "cell_type": "code",
      "metadata": {
        "colab": {
          "base_uri": "https://localhost:8080/",
          "height": 402
        },
        "id": "ulRV3WVRa3zd",
        "outputId": "3c95adc9-0ec3-471d-f06e-fea92814c2d5"
      },
      "source": [
        "sns.lmplot(data=happy_df, x=\"GDP_Capita\", y=\"Happiness\")"
      ],
      "execution_count": null,
      "outputs": [
        {
          "output_type": "execute_result",
          "data": {
            "text/plain": [
              "<seaborn.axisgrid.FacetGrid at 0x7fcfd1d12f10>"
            ]
          },
          "metadata": {
            "tags": []
          },
          "execution_count": 34
        },
        {
          "output_type": "display_data",
          "data": {
            "image/png": "[encoded data removed]",
            "text/plain": [
              "<Figure size 360x360 with 1 Axes>"
            ]
          },
          "metadata": {
            "tags": [],
            "needs_background": "light"
          }
        }
      ]
    },
    {
      "cell_type": "code",
      "metadata": {
        "colab": {
          "base_uri": "https://localhost:8080/"
        },
        "id": "uqo8vqnDefr_",
        "outputId": "34c5f518-9dd7-42bc-be88-db7daa87eb49"
      },
      "source": [
        "happy_df.Happiness.cov(happy_df.GDP_Capita)"
      ],
      "execution_count": null,
      "outputs": [
        {
          "output_type": "execute_result",
          "data": {
            "text/plain": [
              "0.9319570248016631"
            ]
          },
          "metadata": {
            "tags": []
          },
          "execution_count": 35
        }
      ]
    },
    {
      "cell_type": "code",
      "metadata": {
        "colab": {
          "base_uri": "https://localhost:8080/"
        },
        "id": "wQ_mna5ue4Go",
        "outputId": "76945a30-e24f-493a-c5ab-2bf4107e81f8"
      },
      "source": [
        "happy_df.Happiness.corr(happy_df.GDP_Capita)"
      ],
      "execution_count": null,
      "outputs": [
        {
          "output_type": "execute_result",
          "data": {
            "text/plain": [
              "0.7589310211178693"
            ]
          },
          "metadata": {
            "tags": []
          },
          "execution_count": 36
        }
      ]
    },
    {
      "cell_type": "markdown",
      "metadata": {
        "id": "dXQDtQdqfnM4"
      },
      "source": [
        "Lets check negative impact of **Corruption**"
      ]
    },
    {
      "cell_type": "code",
      "metadata": {
        "colab": {
          "base_uri": "https://localhost:8080/",
          "height": 401
        },
        "id": "hNB6-AIBgTDM",
        "outputId": "abf7aa9f-0d91-41f4-9d2d-639e5d8c1b1e"
      },
      "source": [
        "sns.lmplot(data=happy_df, x=\"Corruption\", y=\"Happiness\")"
      ],
      "execution_count": null,
      "outputs": [
        {
          "output_type": "execute_result",
          "data": {
            "text/plain": [
              "<seaborn.axisgrid.FacetGrid at 0x7fcfc93c7190>"
            ]
          },
          "metadata": {
            "tags": []
          },
          "execution_count": 37
        },
        {
          "output_type": "display_data",
          "data": {
            "image/png": "[encoded data removed]",
            "text/plain": [
              "<Figure size 360x360 with 1 Axes>"
            ]
          },
          "metadata": {
            "tags": [],
            "needs_background": "light"
          }
        }
      ]
    },
    {
      "cell_type": "code",
      "metadata": {
        "colab": {
          "base_uri": "https://localhost:8080/"
        },
        "id": "LzmHp0JigpXn",
        "outputId": "fbc6aab9-0a6c-4e45-f16d-1e25eef48d48"
      },
      "source": [
        "happy_df.Happiness.cov(happy_df.Corruption)"
      ],
      "execution_count": null,
      "outputs": [
        {
          "output_type": "execute_result",
          "data": {
            "text/plain": [
              "-0.06767088434577255"
            ]
          },
          "metadata": {
            "tags": []
          },
          "execution_count": 38
        }
      ]
    },
    {
      "cell_type": "code",
      "metadata": {
        "colab": {
          "base_uri": "https://localhost:8080/"
        },
        "id": "b6kP_yqIgwwS",
        "outputId": "88cf8cee-f689-4a06-fb8c-b9b3c4631076"
      },
      "source": [
        "happy_df.Happiness.corr(happy_df.Corruption)"
      ],
      "execution_count": null,
      "outputs": [
        {
          "output_type": "execute_result",
          "data": {
            "text/plain": [
              "-0.42947582790836225"
            ]
          },
          "metadata": {
            "tags": []
          },
          "execution_count": 39
        }
      ]
    },
    {
      "cell_type": "markdown",
      "metadata": {
        "id": "DHDJ4k9GiJIp"
      },
      "source": [
        "Happiness score has weak negative relationship with perception of corruption.\n",
        "\n",
        "Though its weak correlation, its still linear. Its not non-linear correlation.\n",
        "\n",
        "To my surprise, corruption doesn't seems to have strong impact on happiness. I believe this could be due to dataset reflects perception of corruption at high level where day-to-day life of layman doesn't get impacted. Low level corruption in developing countries affects day-to-day life badly."
      ]
    },
    {
      "cell_type": "markdown",
      "metadata": {
        "id": "vVISxbJlep_S"
      },
      "source": [
        "**Hypothesis Testing**  \n",
        "\n",
        "In general, Null hypothesis represent absence of any effect on dependeant variable or say no relationship between variable and outcome. Alternative hypothesis is always to negate null hypotheisis means presence of effect.\n",
        "\n",
        "*** H0 - Null Hypothesis***: The average Generosity in highly happy countries is same as other countries.  \n",
        "*** H1 - Alternate Hypothesis***: The average Generosity in highly happy countries is not same as in other countries.\n",
        "\n",
        "Considering confidence level 95% i.e. alpha=0.05\n",
        "\n"
      ]
    },
    {
      "cell_type": "code",
      "metadata": {
        "colab": {
          "base_uri": "https://localhost:8080/"
        },
        "id": "OroNDGf6hT_R",
        "outputId": "1b4e4c86-7e6b-47c2-cc14-a7d48f41a80d"
      },
      "source": [
        "high_happy_countries_generosity_mean = high_happy_df.Generosity.mean()\n",
        "high_happy_countries_generosity_mean"
      ],
      "execution_count": null,
      "outputs": [
        {
          "output_type": "execute_result",
          "data": {
            "text/plain": [
              "0.03249184451351351"
            ]
          },
          "metadata": {
            "tags": []
          },
          "execution_count": 43
        }
      ]
    },
    {
      "cell_type": "code",
      "metadata": {
        "colab": {
          "base_uri": "https://localhost:8080/"
        },
        "id": "H6-0-DYpwkhq",
        "outputId": "fb454150-c0ab-4bd0-bab4-c09251158e1a"
      },
      "source": [
        "population_generosity_mean=happy_df.Generosity.mean()\n",
        "population_generosity_mean"
      ],
      "execution_count": null,
      "outputs": [
        {
          "output_type": "execute_result",
          "data": {
            "text/plain": [
              "-0.023360451206896546"
            ]
          },
          "metadata": {
            "tags": []
          },
          "execution_count": 44
        }
      ]
    },
    {
      "cell_type": "code",
      "metadata": {
        "colab": {
          "base_uri": "https://localhost:8080/"
        },
        "id": "Oa5YwlRVxEHd",
        "outputId": "5a983be0-7d0c-45bd-97f3-456509bd35ad"
      },
      "source": [
        "from scipy.stats import ttest_1samp\n",
        "ttest_1samp(high_happy_df.Generosity, population_generosity_mean)\n"
      ],
      "execution_count": null,
      "outputs": [
        {
          "output_type": "execute_result",
          "data": {
            "text/plain": [
              "Ttest_1sampResult(statistic=2.348220367947006, pvalue=0.024475279378202184)"
            ]
          },
          "metadata": {
            "tags": []
          },
          "execution_count": 47
        }
      ]
    },
    {
      "cell_type": "markdown",
      "metadata": {
        "id": "8wT8iI74ygvE"
      },
      "source": [
        "p-value is 0.02 which less than 0.05. It means we have to reject Null hypothesis. It means average Generosity in highly happy countries is not same as other countries."
      ]
    },
    {
      "cell_type": "markdown",
      "metadata": {
        "id": "PZqfNNHxpAoV"
      },
      "source": [
        "***Does Social Support and Freedom to Make Choices really matters?***\n",
        "\n",
        "First we will consider only one variable i.e. Social Support. Let's see how Social support matters for overall happiness of country."
      ]
    },
    {
      "cell_type": "code",
      "metadata": {
        "colab": {
          "base_uri": "https://localhost:8080/",
          "height": 423
        },
        "id": "F5rEaCivpawa",
        "outputId": "8d73f0d2-1c3f-4f15-f6d0-d68250ee854d"
      },
      "source": [
        "import statsmodels.api as sm\n",
        "import pandas.util.testing as tm\n",
        "\n",
        "X = happy_df[['Social_Support']] # here we have 2 variables for multiple regression. \n",
        "Y = happy_df['Happiness']\n",
        "model = sm.OLS(Y, X).fit()\n",
        "model.summary()\n"
      ],
      "execution_count": null,
      "outputs": [
        {
          "output_type": "execute_result",
          "data": {
            "text/html": [
              "<table class=\"simpletable\">\n",
              "<caption>OLS Regression Results</caption>\n",
              "<tr>\n",
              "  <th>Dep. Variable:</th>        <td>Happiness</td>    <th>  R-squared (uncentered):</th>      <td>   0.984</td> \n",
              "</tr>\n",
              "<tr>\n",
              "  <th>Model:</th>                   <td>OLS</td>       <th>  Adj. R-squared (uncentered):</th> <td>   0.984</td> \n",
              "</tr>\n",
              "<tr>\n",
              "  <th>Method:</th>             <td>Least Squares</td>  <th>  F-statistic:       </th>          <td>   9067.</td> \n",
              "</tr>\n",
              "<tr>\n",
              "  <th>Date:</th>             <td>Thu, 04 Mar 2021</td> <th>  Prob (F-statistic):</th>          <td>2.62e-133</td>\n",
              "</tr>\n",
              "<tr>\n",
              "  <th>Time:</th>                 <td>04:06:33</td>     <th>  Log-Likelihood:    </th>          <td> -156.74</td> \n",
              "</tr>\n",
              "<tr>\n",
              "  <th>No. Observations:</th>      <td>   147</td>      <th>  AIC:               </th>          <td>   315.5</td> \n",
              "</tr>\n",
              "<tr>\n",
              "  <th>Df Residuals:</th>          <td>   146</td>      <th>  BIC:               </th>          <td>   318.5</td> \n",
              "</tr>\n",
              "<tr>\n",
              "  <th>Df Model:</th>              <td>     1</td>      <th>                     </th>              <td> </td>    \n",
              "</tr>\n",
              "<tr>\n",
              "  <th>Covariance Type:</th>      <td>nonrobust</td>    <th>                     </th>              <td> </td>    \n",
              "</tr>\n",
              "</table>\n",
              "<table class=\"simpletable\">\n",
              "<tr>\n",
              "         <td></td>           <th>coef</th>     <th>std err</th>      <th>t</th>      <th>P>|t|</th>  <th>[0.025</th>    <th>0.975]</th>  \n",
              "</tr>\n",
              "<tr>\n",
              "  <th>Social_Support</th> <td>    6.7474</td> <td>    0.071</td> <td>   95.222</td> <td> 0.000</td> <td>    6.607</td> <td>    6.887</td>\n",
              "</tr>\n",
              "</table>\n",
              "<table class=\"simpletable\">\n",
              "<tr>\n",
              "  <th>Omnibus:</th>       <td> 1.959</td> <th>  Durbin-Watson:     </th> <td>   0.910</td>\n",
              "</tr>\n",
              "<tr>\n",
              "  <th>Prob(Omnibus):</th> <td> 0.375</td> <th>  Jarque-Bera (JB):  </th> <td>   1.598</td>\n",
              "</tr>\n",
              "<tr>\n",
              "  <th>Skew:</th>          <td>-0.246</td> <th>  Prob(JB):          </th> <td>   0.450</td>\n",
              "</tr>\n",
              "<tr>\n",
              "  <th>Kurtosis:</th>      <td> 3.139</td> <th>  Cond. No.          </th> <td>    1.00</td>\n",
              "</tr>\n",
              "</table><br/><br/>Warnings:<br/>[1] Standard Errors assume that the covariance matrix of the errors is correctly specified."
            ],
            "text/plain": [
              "<class 'statsmodels.iolib.summary.Summary'>\n",
              "\"\"\"\n",
              "                                 OLS Regression Results                                \n",
              "=======================================================================================\n",
              "Dep. Variable:              Happiness   R-squared (uncentered):                   0.984\n",
              "Model:                            OLS   Adj. R-squared (uncentered):              0.984\n",
              "Method:                 Least Squares   F-statistic:                              9067.\n",
              "Date:                Thu, 04 Mar 2021   Prob (F-statistic):                   2.62e-133\n",
              "Time:                        04:06:33   Log-Likelihood:                         -156.74\n",
              "No. Observations:                 147   AIC:                                      315.5\n",
              "Df Residuals:                     146   BIC:                                      318.5\n",
              "Df Model:                           1                                                  \n",
              "Covariance Type:            nonrobust                                                  \n",
              "==================================================================================\n",
              "                     coef    std err          t      P>|t|      [0.025      0.975]\n",
              "----------------------------------------------------------------------------------\n",
              "Social_Support     6.7474      0.071     95.222      0.000       6.607       6.887\n",
              "==============================================================================\n",
              "Omnibus:                        1.959   Durbin-Watson:                   0.910\n",
              "Prob(Omnibus):                  0.375   Jarque-Bera (JB):                1.598\n",
              "Skew:                          -0.246   Prob(JB):                        0.450\n",
              "Kurtosis:                       3.139   Cond. No.                         1.00\n",
              "==============================================================================\n",
              "\n",
              "Warnings:\n",
              "[1] Standard Errors assume that the covariance matrix of the errors is correctly specified.\n",
              "\"\"\""
            ]
          },
          "metadata": {
            "tags": []
          },
          "execution_count": 58
        }
      ]
    },
    {
      "cell_type": "code",
      "metadata": {
        "colab": {
          "base_uri": "https://localhost:8080/"
        },
        "id": "_PtY9_-5bOQA",
        "outputId": "f3828dbe-ae1e-4450-8f70-5bfbbca47a30"
      },
      "source": [
        "model.pvalues"
      ],
      "execution_count": null,
      "outputs": [
        {
          "output_type": "execute_result",
          "data": {
            "text/plain": [
              "Social_Support    2.617932e-133\n",
              "dtype: float64"
            ]
          },
          "metadata": {
            "tags": []
          },
          "execution_count": 59
        }
      ]
    },
    {
      "cell_type": "markdown",
      "metadata": {
        "id": "qDnDV5vr0BJo"
      },
      "source": [
        "P-value is very less than 0.05. It means Social support has significant effect on happiness score of country.\n",
        "\n",
        "Lets consider another variable 'Freedom to make Life Choices' and see how it affects overall happiness score."
      ]
    },
    {
      "cell_type": "code",
      "metadata": {
        "colab": {
          "base_uri": "https://localhost:8080/",
          "height": 444
        },
        "id": "0IM8ehhcUem_",
        "outputId": "08dbb18a-6c40-4d2c-a69c-7bab425309f5"
      },
      "source": [
        "X = happy_df[['Social_Support','Freedom_Choice']] # here we have 2 variables for multiple regression. \n",
        "Y = happy_df['Happiness']\n",
        "\n",
        "model = sm.OLS(Y, X).fit()\n",
        "model.summary()"
      ],
      "execution_count": null,
      "outputs": [
        {
          "output_type": "execute_result",
          "data": {
            "text/html": [
              "<table class=\"simpletable\">\n",
              "<caption>OLS Regression Results</caption>\n",
              "<tr>\n",
              "  <th>Dep. Variable:</th>        <td>Happiness</td>    <th>  R-squared (uncentered):</th>      <td>   0.986</td> \n",
              "</tr>\n",
              "<tr>\n",
              "  <th>Model:</th>                   <td>OLS</td>       <th>  Adj. R-squared (uncentered):</th> <td>   0.986</td> \n",
              "</tr>\n",
              "<tr>\n",
              "  <th>Method:</th>             <td>Least Squares</td>  <th>  F-statistic:       </th>          <td>   5018.</td> \n",
              "</tr>\n",
              "<tr>\n",
              "  <th>Date:</th>             <td>Thu, 04 Mar 2021</td> <th>  Prob (F-statistic):</th>          <td>1.35e-134</td>\n",
              "</tr>\n",
              "<tr>\n",
              "  <th>Time:</th>                 <td>03:42:43</td>     <th>  Log-Likelihood:    </th>          <td> -148.88</td> \n",
              "</tr>\n",
              "<tr>\n",
              "  <th>No. Observations:</th>      <td>   147</td>      <th>  AIC:               </th>          <td>   301.8</td> \n",
              "</tr>\n",
              "<tr>\n",
              "  <th>Df Residuals:</th>          <td>   145</td>      <th>  BIC:               </th>          <td>   307.7</td> \n",
              "</tr>\n",
              "<tr>\n",
              "  <th>Df Model:</th>              <td>     2</td>      <th>                     </th>              <td> </td>    \n",
              "</tr>\n",
              "<tr>\n",
              "  <th>Covariance Type:</th>      <td>nonrobust</td>    <th>                     </th>              <td> </td>    \n",
              "</tr>\n",
              "</table>\n",
              "<table class=\"simpletable\">\n",
              "<tr>\n",
              "         <td></td>           <th>coef</th>     <th>std err</th>      <th>t</th>      <th>P>|t|</th>  <th>[0.025</th>    <th>0.975]</th>  \n",
              "</tr>\n",
              "<tr>\n",
              "  <th>Social_Support</th> <td>    4.8782</td> <td>    0.467</td> <td>   10.441</td> <td> 0.000</td> <td>    3.955</td> <td>    5.802</td>\n",
              "</tr>\n",
              "<tr>\n",
              "  <th>Freedom_Choice</th> <td>    1.9604</td> <td>    0.485</td> <td>    4.043</td> <td> 0.000</td> <td>    1.002</td> <td>    2.919</td>\n",
              "</tr>\n",
              "</table>\n",
              "<table class=\"simpletable\">\n",
              "<tr>\n",
              "  <th>Omnibus:</th>       <td> 3.748</td> <th>  Durbin-Watson:     </th> <td>   0.718</td>\n",
              "</tr>\n",
              "<tr>\n",
              "  <th>Prob(Omnibus):</th> <td> 0.153</td> <th>  Jarque-Bera (JB):  </th> <td>   3.551</td>\n",
              "</tr>\n",
              "<tr>\n",
              "  <th>Skew:</th>          <td>-0.381</td> <th>  Prob(JB):          </th> <td>   0.169</td>\n",
              "</tr>\n",
              "<tr>\n",
              "  <th>Kurtosis:</th>      <td> 3.008</td> <th>  Cond. No.          </th> <td>    13.8</td>\n",
              "</tr>\n",
              "</table><br/><br/>Warnings:<br/>[1] Standard Errors assume that the covariance matrix of the errors is correctly specified."
            ],
            "text/plain": [
              "<class 'statsmodels.iolib.summary.Summary'>\n",
              "\"\"\"\n",
              "                                 OLS Regression Results                                \n",
              "=======================================================================================\n",
              "Dep. Variable:              Happiness   R-squared (uncentered):                   0.986\n",
              "Model:                            OLS   Adj. R-squared (uncentered):              0.986\n",
              "Method:                 Least Squares   F-statistic:                              5018.\n",
              "Date:                Thu, 04 Mar 2021   Prob (F-statistic):                   1.35e-134\n",
              "Time:                        03:42:43   Log-Likelihood:                         -148.88\n",
              "No. Observations:                 147   AIC:                                      301.8\n",
              "Df Residuals:                     145   BIC:                                      307.7\n",
              "Df Model:                           2                                                  \n",
              "Covariance Type:            nonrobust                                                  \n",
              "==================================================================================\n",
              "                     coef    std err          t      P>|t|      [0.025      0.975]\n",
              "----------------------------------------------------------------------------------\n",
              "Social_Support     4.8782      0.467     10.441      0.000       3.955       5.802\n",
              "Freedom_Choice     1.9604      0.485      4.043      0.000       1.002       2.919\n",
              "==============================================================================\n",
              "Omnibus:                        3.748   Durbin-Watson:                   0.718\n",
              "Prob(Omnibus):                  0.153   Jarque-Bera (JB):                3.551\n",
              "Skew:                          -0.381   Prob(JB):                        0.169\n",
              "Kurtosis:                       3.008   Cond. No.                         13.8\n",
              "==============================================================================\n",
              "\n",
              "Warnings:\n",
              "[1] Standard Errors assume that the covariance matrix of the errors is correctly specified.\n",
              "\"\"\""
            ]
          },
          "metadata": {
            "tags": []
          },
          "execution_count": 57
        }
      ]
    },
    {
      "cell_type": "markdown",
      "metadata": {
        "id": "daI2VExvaSqM"
      },
      "source": [
        "p-value is still less than 0.05 means both variables have significant effect on happiness score.\n",
        "\n",
        "Coeffiecnt of Social support reduced from 6.74 to 4.87. Coeffient of Freedom to make Life Choices is 1.9. So in nutshell part of social support effect is accounted by freedom.\n",
        "\n",
        "R-square value didn't increase much. It means overall both variables together doesn't have much effect on happiness score."
      ]
    }
  ]
}