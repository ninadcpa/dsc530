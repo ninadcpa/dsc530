{
  "nbformat": 4,
  "nbformat_minor": 0,
  "metadata": {
    "colab": {
      "name": "NinadPatkhedkarExercise3.2_1.2.ipynb",
      "provenance": [],
      "authorship_tag": "ABX9TyNoOwOXiFyuICurpKoVVnHR",
      "include_colab_link": true
    },
    "kernelspec": {
      "name": "python3",
      "display_name": "Python 3"
    }
  },
  "cells": [
    {
      "cell_type": "markdown",
      "metadata": {
        "id": "view-in-github",
        "colab_type": "text"
      },
      "source": [
        "<a href=\"https://colab.research.google.com/github/ninadcpa/dsc530/blob/main/NinadPatkhedkarExercise3_2_1_2.ipynb\" target=\"_parent\"><img src=\"https://colab.research.google.com/assets/colab-badge.svg\" alt=\"Open In Colab\"/></a>"
      ]
    },
    {
      "cell_type": "code",
      "metadata": {
        "colab": {
          "base_uri": "https://localhost:8080/"
        },
        "id": "66uaoVqCAcJu",
        "outputId": "ef4def55-156f-4d6d-dbf1-fd3732035db8"
      },
      "source": [
        "\"\"\"\r\n",
        "Title - EDA Exercise 3.2 - assignment 1.2\r\n",
        "Author - Ninad Patkhedkar\r\n",
        "\"\"\"\r\n",
        "\r\n",
        "from google.colab import drive\r\n",
        "import sys\r\n",
        "import os\r\n",
        "\r\n",
        "# This code is to just use code checked out from github on google drive\r\n",
        "drive.mount('/content/drive')\r\n",
        "sys.path.append('/content/drive/MyDrive/Colab Notebooks/ThinkStats/ThinkStats2/code/')\r\n",
        "os.chdir('/content/drive/MyDrive/Colab Notebooks/ThinkStats/ThinkStats2/code/')\r\n"
      ],
      "execution_count": 1,
      "outputs": [
        {
          "output_type": "stream",
          "text": [
            "Mounted at /content/drive\n"
          ],
          "name": "stdout"
        }
      ]
    },
    {
      "cell_type": "code",
      "metadata": {
        "colab": {
          "base_uri": "https://localhost:8080/"
        },
        "id": "svNTqH-i_rgp",
        "outputId": "f1536e26-a077-4ae4-9871-1cc4c224e1de"
      },
      "source": [
        "\r\n",
        "\r\n",
        "from __future__ import print_function, division\r\n",
        "\r\n",
        "import nsfg\r\n",
        "import numpy as np\r\n",
        "import thinkstats2\r\n",
        "\r\n",
        "from collections import defaultdict\r\n",
        "\r\n",
        "\r\n",
        "def ReadFemResp(dct_file='2002FemResp.dct',\r\n",
        "                dat_file='2002FemResp.dat.gz',\r\n",
        "                nrows=None):\r\n",
        "    \"\"\"Reads the NSFG respondent data.\r\n",
        "    dct_file: string file name\r\n",
        "    dat_file: string file name\r\n",
        "    returns: DataFrame\r\n",
        "    \"\"\"\r\n",
        "    dct = thinkstats2.ReadStataDct(dct_file)\r\n",
        "    df = dct.ReadFixedWidth(dat_file, compression='gzip', nrows=nrows)\r\n",
        "    CleanFemResp(df)\r\n",
        "    return df\r\n",
        "\r\n",
        "\r\n",
        "def CleanFemResp(df):\r\n",
        "    \"\"\"Recodes variables from the respondent frame.\r\n",
        "    df: DataFrame\r\n",
        "    \"\"\"\r\n",
        "    pass\r\n",
        "\r\n",
        "\r\n",
        "def ValidatePregnum(resp):\r\n",
        "    \"\"\"Validate pregnum in the respondent file.\r\n",
        "    resp: respondent DataFrame\r\n",
        "    \"\"\"\r\n",
        "    # read the pregnancy frame\r\n",
        "    preg = nsfg.ReadFemPreg()\r\n",
        "\r\n",
        "    # make the map from caseid to list of pregnancy indices\r\n",
        "    preg_map = nsfg.MakePregMap(preg)\r\n",
        "    \r\n",
        "    # iterate through the respondent pregnum series\r\n",
        "    for index, pregnum in resp.pregnum.items():\r\n",
        "        caseid = resp.caseid[index]\r\n",
        "        indices = preg_map[caseid]\r\n",
        "\r\n",
        "        # check that pregnum from the respondent file equals\r\n",
        "        # the number of records in the pregnancy file\r\n",
        "        if len(indices) != pregnum:\r\n",
        "            print(caseid, len(indices), pregnum)\r\n",
        "            return False\r\n",
        "\r\n",
        "    return True\r\n",
        "\r\n",
        "\r\n",
        "def MakePregMap(df):\r\n",
        "    \"\"\"Make a map from caseid to list of preg indices.\r\n",
        "    df: DataFrame\r\n",
        "    returns: dict that maps from caseid to list of indices into `preg`\r\n",
        "    \"\"\"\r\n",
        "    d = defaultdict(list)\r\n",
        "    for index, caseid in df.caseid.iteritems():\r\n",
        "        d[caseid].append(index)\r\n",
        "    return d\r\n",
        "\r\n",
        "\r\n",
        "def main():\r\n",
        "    resp = ReadFemResp()\r\n",
        "\r\n",
        "    assert(len(resp) == 7643)\r\n",
        "    assert(resp.pregnum.value_counts()[1] == 1267)\r\n",
        "    assert(ValidatePregnum(resp))\r\n",
        "\r\n",
        "    print('%s: All tests passed.')\r\n",
        "\r\n",
        "\r\n",
        "if __name__ == '__main__':\r\n",
        "    main()"
      ],
      "execution_count": 5,
      "outputs": [
        {
          "output_type": "stream",
          "text": [
            "%s: All tests passed.\n"
          ],
          "name": "stdout"
        }
      ]
    }
  ]
}