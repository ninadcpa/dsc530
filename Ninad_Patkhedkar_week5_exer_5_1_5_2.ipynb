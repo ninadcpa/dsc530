{
  "nbformat": 4,
  "nbformat_minor": 0,
  "metadata": {
    "kernelspec": {
      "display_name": "Python 3",
      "language": "python",
      "name": "python3"
    },
    "language_info": {
      "codemirror_mode": {
        "name": "ipython",
        "version": 3
      },
      "file_extension": ".py",
      "mimetype": "text/x-python",
      "name": "python",
      "nbconvert_exporter": "python",
      "pygments_lexer": "ipython3",
      "version": "3.6.7"
    },
    "colab": {
      "name": "Ninad_Patkhedkar_week5_exer_5.1_5.2.ipynb",
      "provenance": [],
      "include_colab_link": true
    }
  },
  "cells": [
    {
      "cell_type": "markdown",
      "metadata": {
        "id": "view-in-github",
        "colab_type": "text"
      },
      "source": [
        "<a href=\"https://colab.research.google.com/github/ninadcpa/dsc530/blob/main/Ninad_Patkhedkar_week5_exer_5_1_5_2.ipynb\" target=\"_parent\"><img src=\"https://colab.research.google.com/assets/colab-badge.svg\" alt=\"Open In Colab\"/></a>"
      ]
    },
    {
      "cell_type": "markdown",
      "metadata": {
        "id": "wFm54KCxR-PI"
      },
      "source": [
        "# Week 5 Exercise 5.1 and 5.2\n",
        "\n",
        "Author - Ninad Patkhedkar"
      ]
    },
    {
      "cell_type": "code",
      "metadata": {
        "colab": {
          "base_uri": "https://localhost:8080/"
        },
        "id": "q3tfaS16SY_p",
        "outputId": "8d377bdb-6bda-4ae7-e3f2-561421ea48e8"
      },
      "source": [
        "from google.colab import drive\n",
        "import sys\n",
        "import os\n",
        "\n",
        "# This code is to just use code checked out from github on google drive\n",
        "drive.mount('/content/drive')\n",
        "sys.path.append('/content/drive/MyDrive/Colab Notebooks/ThinkStats/ThinkStats2/code/')\n",
        "os.chdir('/content/drive/MyDrive/Colab Notebooks/ThinkStats/ThinkStats2/code/')"
      ],
      "execution_count": 1,
      "outputs": [
        {
          "output_type": "stream",
          "text": [
            "Drive already mounted at /content/drive; to attempt to forcibly remount, call drive.mount(\"/content/drive\", force_remount=True).\n"
          ],
          "name": "stdout"
        }
      ]
    },
    {
      "cell_type": "markdown",
      "metadata": {
        "collapsed": true,
        "id": "eno5vSuqR-Q-"
      },
      "source": [
        "## Exercises"
      ]
    },
    {
      "cell_type": "markdown",
      "metadata": {
        "id": "bpvJhNXRR-Q-"
      },
      "source": [
        "**Exercise 5.1:** In the BRFSS (see Section 5.4), the distribution of heights is roughly normal with parameters µ = 178 cm and σ = 7.7 cm for men, and µ = 163 cm and σ = 7.3 cm for women.\n",
        "\n",
        "In order to join Blue Man Group, you have to be male between 5’10” and 6’1” (see http://bluemancasting.com). What percentage of the U.S. male population is in this range? Hint: use `scipy.stats.norm.cdf`."
      ]
    },
    {
      "cell_type": "markdown",
      "metadata": {
        "id": "9b7vEX7-R-RA"
      },
      "source": [
        "`scipy.stats` contains objects that represent analytic distributions"
      ]
    },
    {
      "cell_type": "code",
      "metadata": {
        "id": "51VuPEB_R-RA"
      },
      "source": [
        "import scipy.stats"
      ],
      "execution_count": 2,
      "outputs": []
    },
    {
      "cell_type": "markdown",
      "metadata": {
        "id": "9bIzNN6aR-RB"
      },
      "source": [
        "For example <tt>scipy.stats.norm</tt> represents a normal distribution."
      ]
    },
    {
      "cell_type": "code",
      "metadata": {
        "colab": {
          "base_uri": "https://localhost:8080/"
        },
        "id": "FcF_rCZuR-RB",
        "outputId": "2c40443c-1b51-478f-b3a6-7b2dfc723402"
      },
      "source": [
        "mu = 178\n",
        "sigma = 7.7\n",
        "dist = scipy.stats.norm(loc=mu, scale=sigma)\n",
        "type(dist)"
      ],
      "execution_count": 3,
      "outputs": [
        {
          "output_type": "execute_result",
          "data": {
            "text/plain": [
              "scipy.stats._distn_infrastructure.rv_frozen"
            ]
          },
          "metadata": {
            "tags": []
          },
          "execution_count": 3
        }
      ]
    },
    {
      "cell_type": "markdown",
      "metadata": {
        "id": "2PVEohGoR-RC"
      },
      "source": [
        "A \"frozen random variable\" can compute its mean and standard deviation."
      ]
    },
    {
      "cell_type": "code",
      "metadata": {
        "colab": {
          "base_uri": "https://localhost:8080/"
        },
        "id": "i6K0GeKcR-RD",
        "outputId": "6953910b-a192-4ce4-d010-827be8090ece"
      },
      "source": [
        "dist.mean(), dist.std()"
      ],
      "execution_count": 4,
      "outputs": [
        {
          "output_type": "execute_result",
          "data": {
            "text/plain": [
              "(178.0, 7.7)"
            ]
          },
          "metadata": {
            "tags": []
          },
          "execution_count": 4
        }
      ]
    },
    {
      "cell_type": "markdown",
      "metadata": {
        "id": "OMchqyphR-RE"
      },
      "source": [
        "It can also evaluate its CDF.  How many people are more than one standard deviation below the mean?  About 16%"
      ]
    },
    {
      "cell_type": "code",
      "metadata": {
        "colab": {
          "base_uri": "https://localhost:8080/"
        },
        "id": "2EYtEPbrR-RF",
        "outputId": "8d744259-3097-4d9d-e1e0-f451a8b46430"
      },
      "source": [
        "dist.cdf(mu-sigma)"
      ],
      "execution_count": 5,
      "outputs": [
        {
          "output_type": "execute_result",
          "data": {
            "text/plain": [
              "0.1586552539314574"
            ]
          },
          "metadata": {
            "tags": []
          },
          "execution_count": 5
        }
      ]
    },
    {
      "cell_type": "markdown",
      "metadata": {
        "id": "oz3miiOrR-RH"
      },
      "source": [
        "How many people are between 5'10\" and 6'1\"?"
      ]
    },
    {
      "cell_type": "code",
      "metadata": {
        "colab": {
          "base_uri": "https://localhost:8080/"
        },
        "id": "Ebj0lIkFR-RI",
        "outputId": "f563a367-c80c-4138-ed1d-01eb7b6bb0f8"
      },
      "source": [
        "low = dist.cdf(177.8)    # 5'10\"\n",
        "high = dist.cdf(185.4)   # 6'1\"\n",
        "low, high, high-low"
      ],
      "execution_count": 6,
      "outputs": [
        {
          "output_type": "execute_result",
          "data": {
            "text/plain": [
              "(0.48963902786483265, 0.8317337108107857, 0.3420946829459531)"
            ]
          },
          "metadata": {
            "tags": []
          },
          "execution_count": 6
        }
      ]
    },
    {
      "cell_type": "markdown",
      "metadata": {
        "id": "O_MrcO19R-RL"
      },
      "source": [
        "**Exercise 5.2:** To get a feel for the Pareto distribution, let’s see how different the world would be if the distribution of human height were Pareto. With the parameters xm = 1 m and α = 1.7, we get a distribution with a reasonable minimum, 1 m, and median, 1.5 m.\n",
        "\n",
        "Plot this distribution. What is the mean human height in Pareto world? What fraction of the population is shorter than the mean? If there are 7 billion people in Pareto world, how many do we expect to be taller than 1 km? How tall do we expect the tallest person to be?\n",
        "\n",
        "`scipy.stats.pareto` represents a pareto distribution.  In Pareto world, the distribution of human heights has parameters alpha=1.7 and xmin=1 meter.  So the shortest person is 100 cm and the median is 150."
      ]
    },
    {
      "cell_type": "code",
      "metadata": {
        "colab": {
          "base_uri": "https://localhost:8080/"
        },
        "id": "TAU-8oLyR-RN",
        "outputId": "0e08cb76-eece-411e-fc44-89d6439591a8"
      },
      "source": [
        "alpha = 1.7\n",
        "xmin = 1       # meter\n",
        "dist = scipy.stats.pareto(b=alpha, scale=xmin)\n",
        "dist.median()"
      ],
      "execution_count": 7,
      "outputs": [
        {
          "output_type": "execute_result",
          "data": {
            "text/plain": [
              "1.5034066538560549"
            ]
          },
          "metadata": {
            "tags": []
          },
          "execution_count": 7
        }
      ]
    },
    {
      "cell_type": "markdown",
      "metadata": {
        "id": "TY9IZATPR-RQ"
      },
      "source": [
        "What is the mean height in Pareto world?"
      ]
    },
    {
      "cell_type": "code",
      "metadata": {
        "colab": {
          "base_uri": "https://localhost:8080/"
        },
        "id": "tQdu5m8NR-RR",
        "outputId": "2ce873c3-09b9-4e21-c576-65f0d90bf354"
      },
      "source": [
        "dist.mean()"
      ],
      "execution_count": 8,
      "outputs": [
        {
          "output_type": "execute_result",
          "data": {
            "text/plain": [
              "2.428571428571429"
            ]
          },
          "metadata": {
            "tags": []
          },
          "execution_count": 8
        }
      ]
    },
    {
      "cell_type": "markdown",
      "metadata": {
        "id": "6d8uY4aKR-RS"
      },
      "source": [
        "What fraction of people are shorter than the mean?"
      ]
    },
    {
      "cell_type": "code",
      "metadata": {
        "colab": {
          "base_uri": "https://localhost:8080/"
        },
        "id": "sLCECD4cR-RS",
        "outputId": "5d46be66-8af7-4b32-b5c3-391f25c58644"
      },
      "source": [
        "dist.cdf(dist.mean())"
      ],
      "execution_count": 9,
      "outputs": [
        {
          "output_type": "execute_result",
          "data": {
            "text/plain": [
              "0.778739697565288"
            ]
          },
          "metadata": {
            "tags": []
          },
          "execution_count": 9
        }
      ]
    },
    {
      "cell_type": "markdown",
      "metadata": {
        "id": "TWn26rcHR-RU"
      },
      "source": [
        "Out of 7 billion people, how many do we expect to be taller than 1 km?  You could use <tt>dist.cdf</tt> or <tt>dist.sf</tt>."
      ]
    },
    {
      "cell_type": "code",
      "metadata": {
        "colab": {
          "base_uri": "https://localhost:8080/"
        },
        "id": "VpdJUHtaR-RV",
        "outputId": "fcad7bbe-df7c-4970-a330-76be6f33b065"
      },
      "source": [
        "(1 - dist.cdf(1000)) * 7e9, dist.sf(1000) * 7e9"
      ],
      "execution_count": 10,
      "outputs": [
        {
          "output_type": "execute_result",
          "data": {
            "text/plain": [
              "(55602.976430479954, 55602.97643069972)"
            ]
          },
          "metadata": {
            "tags": []
          },
          "execution_count": 10
        }
      ]
    },
    {
      "cell_type": "markdown",
      "metadata": {
        "id": "stDWgR4LR-RX"
      },
      "source": [
        "How tall do we expect the tallest person to be?"
      ]
    },
    {
      "cell_type": "code",
      "metadata": {
        "colab": {
          "base_uri": "https://localhost:8080/"
        },
        "id": "URZzLG5IR-RY",
        "outputId": "5ae8d7fd-a3d7-4551-e124-e6ec96609f42"
      },
      "source": [
        "# One way to solve this is to search for a height that we\n",
        "# expect one person out of 7 billion to exceed.\n",
        "\n",
        "# It comes in at roughly 600 kilometers.\n",
        "\n",
        "dist.sf(600000) * 7e9            "
      ],
      "execution_count": 11,
      "outputs": [
        {
          "output_type": "execute_result",
          "data": {
            "text/plain": [
              "1.0525455861201714"
            ]
          },
          "metadata": {
            "tags": []
          },
          "execution_count": 11
        }
      ]
    },
    {
      "cell_type": "code",
      "metadata": {
        "colab": {
          "base_uri": "https://localhost:8080/"
        },
        "id": "YyCcVmm9R-Ra",
        "outputId": "674185b2-c99b-474a-cd41-93e0bfed3b38"
      },
      "source": [
        "# Another way is to use `ppf`, which evaluates the \"percent point function\", which\n",
        "# is the inverse CDF.  So we can compute the height in meters that corresponds to\n",
        "# the probability (1 - 1/7e9).\n",
        "\n",
        "dist.ppf(1 - 1/7e9)"
      ],
      "execution_count": 12,
      "outputs": [
        {
          "output_type": "execute_result",
          "data": {
            "text/plain": [
              "618349.6106759505"
            ]
          },
          "metadata": {
            "tags": []
          },
          "execution_count": 12
        }
      ]
    },
    {
      "cell_type": "code",
      "metadata": {
        "id": "9sP9auBrR-SD"
      },
      "source": [
        ""
      ],
      "execution_count": 12,
      "outputs": []
    }
  ]
}